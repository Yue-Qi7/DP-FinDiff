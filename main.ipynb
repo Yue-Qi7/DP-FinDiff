{
 "cells": [
  {
   "cell_type": "markdown",
   "metadata": {},
   "source": [
    "This Jupyter Notebook is developed for demonstration purposes to showcase the implementation of the FinDiff model."
   ]
  },
  {
   "cell_type": "code",
   "execution_count": 1,
   "metadata": {},
   "outputs": [],
   "source": [
    "# main libraries for data processing/plotting\n",
    "import pandas as pd\n",
    "import numpy as np\n",
    "from tqdm import tqdm\n",
    "from sklearn.preprocessing import LabelEncoder, QuantileTransformer\n",
    "import seaborn as sns\n",
    "\n",
    "# import torch functionality\n",
    "import torch\n",
    "from torch import nn\n",
    "from torch.utils.data import DataLoader, TensorDataset\n",
    "import torch.optim as optim\n",
    "from torch.optim.lr_scheduler import CosineAnnealingLR\n",
    "\n",
    "# import synthetic data vault library\n",
    "from sdv.metadata import SingleTableMetadata\n",
    "import sdv.evaluation.single_table as sdv_st\n",
    "\n",
    "#  import local developed models\n",
    "from MLPSynthesizer import MLPSynthesizer\n",
    "from BaseDiffuser import BaseDiffuser\n",
    "from findiff_modules import train_epoch, decode_sample, generate_samples\n",
    "\n",
    "%load_ext autoreload\n",
    "%autoreload 2\n"
   ]
  },
  {
   "cell_type": "markdown",
   "metadata": {},
   "source": [
    "Set params and seed"
   ]
  },
  {
   "cell_type": "code",
   "execution_count": 2,
   "metadata": {},
   "outputs": [],
   "source": [
    "# define experiment parameters\n",
    "exp_params = dict(\n",
    "\n",
    "    seed = 111,\n",
    "    batch_size = 512,\n",
    "    epochs = 3000,\n",
    "    n_cat_emb = 2, # size of the categorical embeddings (2 means each attribute will be 2-dimensional)\n",
    "    learning_rate = 1e-4,\n",
    "\n",
    "    mlp_layers = [1024, 1024, 1024, 1024], # total neurons at each hidden feed-forward layer\n",
    "    activation = 'lrelu',\n",
    "\n",
    "    diffusion_steps = 500,\n",
    "    diffusion_beta_start = 1e-4,\n",
    "    diffusion_beta_end = 0.02,\n",
    "    scheduler = 'linear'\n",
    ")\n",
    "    \n",
    "# set seed\n",
    "np.random.seed(exp_params['seed'])  # set numpy seed\n",
    "torch.manual_seed(exp_params['seed'])  # set pytorch seed CPU\n",
    "torch.cuda.manual_seed(exp_params['seed'])  # set pytorch seed GPU\n"
   ]
  },
  {
   "cell_type": "markdown",
   "metadata": {},
   "source": [
    "# Load and preprecess dataset. \n",
    "For showcasing UCI Credit Card dataset was used, available at https://archive.ics.uci.edu/ml/datasets/default+of+credit+card+clients"
   ]
  },
  {
   "cell_type": "code",
   "execution_count": 3,
   "metadata": {},
   "outputs": [],
   "source": [
    "# read csv file\n",
    "train_raw = pd.read_csv(r'data/UCI_Credit_Card.csv')\n",
    "\n",
    "# remove underscore in column names for correct inverse decoding\n",
    "train_raw.columns = [col.replace('_', '') for col in train_raw.columns]\n",
    "\n",
    "# identify numeric and categorical attributes\n",
    "cat_attrs = ['SEX', 'EDUCATION', 'MARRIAGE', 'AGE', 'PAY0', 'PAY2', 'PAY3', 'PAY4', 'PAY5', 'PAY6']\n",
    "num_attrs = ['LIMITBAL', 'BILLAMT1', 'BILLAMT2', 'BILLAMT3', 'BILLAMT4', 'BILLAMT5', 'BILLAMT6',\n",
    "             'PAYAMT1', 'PAYAMT2', 'PAYAMT3', 'PAYAMT4', 'PAYAMT5', 'PAYAMT6']\n",
    "\n",
    "# add col name to every entry to make them distinguishable for embedding\n",
    "for cat_attr in cat_attrs:\n",
    "    train_raw[cat_attr] = cat_attr + '_' + train_raw[cat_attr].astype('str')\n",
    "\n",
    "# extract label\n",
    "label_name = 'default.payment.next.month'\n",
    "label = train_raw[label_name]\n"
   ]
  },
  {
   "cell_type": "code",
   "execution_count": 4,
   "metadata": {},
   "outputs": [
    {
     "name": "stdout",
     "output_type": "stream",
     "text": [
      "Processed data: Train shape: (30000, 23)\n"
     ]
    }
   ],
   "source": [
    "# take cat and num subsets\n",
    "train = train_raw[[*cat_attrs, *num_attrs]]\n",
    "\n",
    "# update categorical attributes\n",
    "train[cat_attrs] = train[cat_attrs].astype(str)\n",
    "\n",
    "print('Processed data: Train shape: {}'.format(train.shape))"
   ]
  },
  {
   "cell_type": "code",
   "execution_count": 5,
   "metadata": {},
   "outputs": [
    {
     "name": "stdout",
     "output_type": "stream",
     "text": [
      "Encoded categorical data: Train shape: torch.Size([30000, 10])\n",
      "Encoded numerical data: Train shape: torch.Size([30000, 13])\n"
     ]
    }
   ],
   "source": [
    "### transform numeric attributes\n",
    "num_scaler = QuantileTransformer(output_distribution='normal', random_state=exp_params['seed'])\n",
    "num_scaler.fit(train[num_attrs])\n",
    "train_num_scaled = num_scaler.transform(train[num_attrs])\n",
    "\n",
    "### transform categorical attributes\n",
    "# get unique values\n",
    "vocabulary_classes = np.unique(train[cat_attrs])\n",
    "# fit label encoder\n",
    "label_encoder = LabelEncoder().fit(vocabulary_classes)\n",
    "# transform dataset\n",
    "train_cat_scaled = train[cat_attrs].apply(label_encoder.transform)\n",
    "# collect unique categories of each attribute\n",
    "vocab_per_attr = {cat_attr: set(train_cat_scaled[cat_attr]) for cat_attr in cat_attrs}\n",
    "\n",
    "# init torch tensors\n",
    "train_num_torch = torch.FloatTensor(train_num_scaled)\n",
    "train_cat_torch = torch.LongTensor(train_cat_scaled.values)\n",
    "label_torch = torch.LongTensor(label)\n",
    "\n",
    "print('Encoded categorical data: Train shape: {}'.format(train_cat_torch.shape))\n",
    "print('Encoded numerical data: Train shape: {}'.format(train_num_torch.shape))"
   ]
  },
  {
   "cell_type": "code",
   "execution_count": 6,
   "metadata": {},
   "outputs": [],
   "source": [
    "# prepare DataLoader\n",
    "train_set = TensorDataset(\n",
    "    train_cat_torch,\n",
    "    train_num_torch,\n",
    "    label_torch\n",
    ")\n",
    "\n",
    "dataloader = DataLoader(\n",
    "    dataset=train_set,\n",
    "    batch_size=exp_params['batch_size'],\n",
    "    num_workers=0, \n",
    "    shuffle=True\n",
    ")\n"
   ]
  },
  {
   "cell_type": "markdown",
   "metadata": {},
   "source": [
    "# Initialize and train the model"
   ]
  },
  {
   "cell_type": "code",
   "execution_count": 7,
   "metadata": {},
   "outputs": [],
   "source": [
    "n_cat_tokens = len(vocabulary_classes)\n",
    "cat_dim = exp_params['n_cat_emb'] * len(cat_attrs)\n",
    "encoded_dim = cat_dim + len(num_attrs)\n",
    "\n",
    "# initialize the synthesizer\n",
    "synthesizer = MLPSynthesizer(\n",
    "    d_in=encoded_dim,\n",
    "    hidden_layers=exp_params['mlp_layers'],\n",
    "    activation=exp_params['activation'],\n",
    "    n_cat_tokens=n_cat_tokens,\n",
    "    n_cat_emb=exp_params['n_cat_emb'],\n",
    "    n_classes=pd.Series(label).nunique(),\n",
    "    embedding_learned=False\n",
    ")\n",
    "\n",
    "# initialize the diffuser\n",
    "diffuser = BaseDiffuser(\n",
    "    total_steps=exp_params['diffusion_steps'],\n",
    "    beta_start=exp_params['diffusion_beta_start'],\n",
    "    beta_end=exp_params['diffusion_beta_end'],\n",
    "    scheduler=exp_params['scheduler']\n",
    ")\n"
   ]
  },
  {
   "cell_type": "code",
   "execution_count": 8,
   "metadata": {},
   "outputs": [],
   "source": [
    "# init optimizer, scheduler and loss function\n",
    "parameters = filter(lambda p: p.requires_grad, synthesizer.parameters())\n",
    "optimizer = optim.Adam(parameters, lr=exp_params['learning_rate'])\n",
    "scheduler = CosineAnnealingLR(optimizer, T_max=exp_params['epochs'], verbose=False)\n",
    "loss_fnc = nn.MSELoss()"
   ]
  },
  {
   "cell_type": "code",
   "execution_count": 9,
   "metadata": {},
   "outputs": [
    {
     "name": "stderr",
     "output_type": "stream",
     "text": [
      "INFO: FinDiff training | losses: 0.109: 100%|██████████| 3000/3000 [1:28:15<00:00,  1.77s/it]\n"
     ]
    }
   ],
   "source": [
    "# list for collection of training losses\n",
    "losses_all = []\n",
    "\n",
    "# iterate over distinct training epochs\n",
    "desc_info = f\"INFO: FinDiff training\"\n",
    "pbar = tqdm(iterable=range(exp_params['epochs']), position=0, leave=True)\n",
    "for epoch in pbar:\n",
    "\n",
    "    base_params = {'epoch': epoch, 'seed': exp_params['seed'], 'mlp_layers': exp_params['mlp_layers']}\n",
    "\n",
    "    # train single epoch\n",
    "    train_losses = train_epoch(\n",
    "        dataloader=dataloader,\n",
    "        synthesizer=synthesizer,\n",
    "        diffuser=diffuser,\n",
    "        loss_fnc=loss_fnc,\n",
    "        optimizer=optimizer,\n",
    "        scheduler=scheduler\n",
    "    )\n",
    "    losses_all.append({**base_params, **train_losses})\n",
    "\n",
    "    # add description to the progress bar\n",
    "    desc_losses = ' | '.join([f'{name}: {loss:.3f}' for name, loss in train_losses.items()])\n",
    "    pbar.set_description(desc_info + ' | ' + desc_losses)\n"
   ]
  },
  {
   "cell_type": "markdown",
   "metadata": {},
   "source": [
    "# Sampling"
   ]
  },
  {
   "cell_type": "code",
   "execution_count": null,
   "metadata": {},
   "outputs": [],
   "source": [
    "# generate new samples\n",
    "generated_samples = generate_samples(\n",
    "    synthesizer=synthesizer,\n",
    "    diffuser=diffuser,\n",
    "    encoded_dim=encoded_dim,\n",
    "    last_diff_step=exp_params['diffusion_steps'],\n",
    "    label=label_torch\n",
    ")\n",
    "# decode generated samples, i.e. numeric upscaling + categorical inverse encoding\n",
    "generated_samples_df = decode_sample(\n",
    "    sample=generated_samples,\n",
    "    cat_dim=cat_dim,\n",
    "    n_cat_emb=exp_params['n_cat_emb'],\n",
    "    num_attrs=num_attrs,\n",
    "    cat_attrs=cat_attrs,\n",
    "    num_scaler=num_scaler,\n",
    "    vocab_per_attr=vocab_per_attr,\n",
    "    label_encoder=label_encoder,\n",
    "    synthesizer=synthesizer\n",
    ")"
   ]
  },
  {
   "cell_type": "markdown",
   "metadata": {},
   "source": [
    "# Evaluate generated data"
   ]
  },
  {
   "cell_type": "code",
   "execution_count": 11,
   "metadata": {},
   "outputs": [
    {
     "name": "stdout",
     "output_type": "stream",
     "text": [
      "Generating report ...\n",
      "(1/2) Evaluating Column Shapes: : 100%|██████████| 23/23 [00:00<00:00, 51.02it/s]\n",
      "(2/2) Evaluating Column Pair Trends: : 100%|██████████| 253/253 [00:03<00:00, 65.11it/s] \n",
      "\n",
      "Overall Quality Score: 89.0%\n",
      "\n",
      "Properties:\n",
      "- Column Shapes: 96.34%\n",
      "- Column Pair Trends: 81.66%\n"
     ]
    }
   ],
   "source": [
    "# build a metadata for evaluation (from SDV)\n",
    "metadata = SingleTableMetadata()\n",
    "metadata.detect_from_dataframe(data=train)\n",
    "\n",
    "# generate quality report\n",
    "quality_report = sdv_st.evaluate_quality(\n",
    "    real_data=train,\n",
    "    synthetic_data=generated_samples_df,\n",
    "    metadata=metadata\n",
    ")"
   ]
  },
  {
   "cell_type": "code",
   "execution_count": 12,
   "metadata": {},
   "outputs": [
    {
     "data": {
      "application/vnd.plotly.v1+json": {
       "config": {
        "plotlyServerURL": "https://plot.ly"
       },
       "data": [
        {
         "alignmentgroup": "True",
         "customdata": [
          [
           "TVComplement"
          ],
          [
           "TVComplement"
          ],
          [
           "TVComplement"
          ],
          [
           "TVComplement"
          ],
          [
           "TVComplement"
          ],
          [
           "TVComplement"
          ],
          [
           "TVComplement"
          ],
          [
           "TVComplement"
          ],
          [
           "TVComplement"
          ],
          [
           "TVComplement"
          ]
         ],
         "hovertemplate": "<b>%{hovertext}</b><br><br>Metric=%{customdata[0]}<br>Score=%{y}<extra></extra>",
         "hovertext": [
          "SEX",
          "EDUCATION",
          "MARRIAGE",
          "AGE",
          "PAY0",
          "PAY2",
          "PAY3",
          "PAY4",
          "PAY5",
          "PAY6"
         ],
         "legendgroup": "TVComplement",
         "marker": {
          "color": "#03AFF1",
          "pattern": {
           "shape": ""
          }
         },
         "name": "TVComplement",
         "offsetgroup": "TVComplement",
         "orientation": "v",
         "showlegend": true,
         "textposition": "auto",
         "type": "bar",
         "x": [
          "SEX",
          "EDUCATION",
          "MARRIAGE",
          "AGE",
          "PAY0",
          "PAY2",
          "PAY3",
          "PAY4",
          "PAY5",
          "PAY6"
         ],
         "xaxis": "x",
         "y": [
          0.9991666666666666,
          0.9826666666666667,
          0.9885333333333334,
          0.6499666666666668,
          0.9795666666666667,
          0.9855333333333334,
          0.9617333333333333,
          0.9903,
          0.9055333333333333,
          0.9793666666666667
         ],
         "yaxis": "y"
        },
        {
         "alignmentgroup": "True",
         "customdata": [
          [
           "KSComplement"
          ],
          [
           "KSComplement"
          ],
          [
           "KSComplement"
          ],
          [
           "KSComplement"
          ],
          [
           "KSComplement"
          ],
          [
           "KSComplement"
          ],
          [
           "KSComplement"
          ],
          [
           "KSComplement"
          ],
          [
           "KSComplement"
          ],
          [
           "KSComplement"
          ],
          [
           "KSComplement"
          ],
          [
           "KSComplement"
          ],
          [
           "KSComplement"
          ]
         ],
         "hovertemplate": "<b>%{hovertext}</b><br><br>Metric=%{customdata[0]}<br>Score=%{y}<extra></extra>",
         "hovertext": [
          "LIMITBAL",
          "BILLAMT1",
          "BILLAMT2",
          "BILLAMT3",
          "BILLAMT4",
          "BILLAMT5",
          "BILLAMT6",
          "PAYAMT1",
          "PAYAMT2",
          "PAYAMT3",
          "PAYAMT4",
          "PAYAMT5",
          "PAYAMT6"
         ],
         "legendgroup": "KSComplement",
         "marker": {
          "color": "#000036",
          "pattern": {
           "shape": "/"
          }
         },
         "name": "KSComplement",
         "offsetgroup": "KSComplement",
         "orientation": "v",
         "showlegend": true,
         "textposition": "auto",
         "type": "bar",
         "x": [
          "LIMITBAL",
          "BILLAMT1",
          "BILLAMT2",
          "BILLAMT3",
          "BILLAMT4",
          "BILLAMT5",
          "BILLAMT6",
          "PAYAMT1",
          "PAYAMT2",
          "PAYAMT3",
          "PAYAMT4",
          "PAYAMT5",
          "PAYAMT6"
         ],
         "xaxis": "x",
         "y": [
          0.9796,
          0.9859333333333333,
          0.9848,
          0.9823000000000001,
          0.9829333333333333,
          0.9819,
          0.981,
          0.9740666666666666,
          0.9731333333333334,
          0.9743666666666666,
          0.9789,
          0.9767,
          0.9802333333333333
         ],
         "yaxis": "y"
        }
       ],
       "layout": {
        "barmode": "relative",
        "font": {
         "size": 18
        },
        "legend": {
         "title": {
          "text": "Metric"
         },
         "tracegroupgap": 0
        },
        "margin": {
         "t": 150
        },
        "plot_bgcolor": "#F5F5F8",
        "template": {
         "data": {
          "bar": [
           {
            "error_x": {
             "color": "#2a3f5f"
            },
            "error_y": {
             "color": "#2a3f5f"
            },
            "marker": {
             "line": {
              "color": "#E5ECF6",
              "width": 0.5
             },
             "pattern": {
              "fillmode": "overlay",
              "size": 10,
              "solidity": 0.2
             }
            },
            "type": "bar"
           }
          ],
          "barpolar": [
           {
            "marker": {
             "line": {
              "color": "#E5ECF6",
              "width": 0.5
             },
             "pattern": {
              "fillmode": "overlay",
              "size": 10,
              "solidity": 0.2
             }
            },
            "type": "barpolar"
           }
          ],
          "carpet": [
           {
            "aaxis": {
             "endlinecolor": "#2a3f5f",
             "gridcolor": "white",
             "linecolor": "white",
             "minorgridcolor": "white",
             "startlinecolor": "#2a3f5f"
            },
            "baxis": {
             "endlinecolor": "#2a3f5f",
             "gridcolor": "white",
             "linecolor": "white",
             "minorgridcolor": "white",
             "startlinecolor": "#2a3f5f"
            },
            "type": "carpet"
           }
          ],
          "choropleth": [
           {
            "colorbar": {
             "outlinewidth": 0,
             "ticks": ""
            },
            "type": "choropleth"
           }
          ],
          "contour": [
           {
            "colorbar": {
             "outlinewidth": 0,
             "ticks": ""
            },
            "colorscale": [
             [
              0,
              "#0d0887"
             ],
             [
              0.1111111111111111,
              "#46039f"
             ],
             [
              0.2222222222222222,
              "#7201a8"
             ],
             [
              0.3333333333333333,
              "#9c179e"
             ],
             [
              0.4444444444444444,
              "#bd3786"
             ],
             [
              0.5555555555555556,
              "#d8576b"
             ],
             [
              0.6666666666666666,
              "#ed7953"
             ],
             [
              0.7777777777777778,
              "#fb9f3a"
             ],
             [
              0.8888888888888888,
              "#fdca26"
             ],
             [
              1,
              "#f0f921"
             ]
            ],
            "type": "contour"
           }
          ],
          "contourcarpet": [
           {
            "colorbar": {
             "outlinewidth": 0,
             "ticks": ""
            },
            "type": "contourcarpet"
           }
          ],
          "heatmap": [
           {
            "colorbar": {
             "outlinewidth": 0,
             "ticks": ""
            },
            "colorscale": [
             [
              0,
              "#0d0887"
             ],
             [
              0.1111111111111111,
              "#46039f"
             ],
             [
              0.2222222222222222,
              "#7201a8"
             ],
             [
              0.3333333333333333,
              "#9c179e"
             ],
             [
              0.4444444444444444,
              "#bd3786"
             ],
             [
              0.5555555555555556,
              "#d8576b"
             ],
             [
              0.6666666666666666,
              "#ed7953"
             ],
             [
              0.7777777777777778,
              "#fb9f3a"
             ],
             [
              0.8888888888888888,
              "#fdca26"
             ],
             [
              1,
              "#f0f921"
             ]
            ],
            "type": "heatmap"
           }
          ],
          "heatmapgl": [
           {
            "colorbar": {
             "outlinewidth": 0,
             "ticks": ""
            },
            "colorscale": [
             [
              0,
              "#0d0887"
             ],
             [
              0.1111111111111111,
              "#46039f"
             ],
             [
              0.2222222222222222,
              "#7201a8"
             ],
             [
              0.3333333333333333,
              "#9c179e"
             ],
             [
              0.4444444444444444,
              "#bd3786"
             ],
             [
              0.5555555555555556,
              "#d8576b"
             ],
             [
              0.6666666666666666,
              "#ed7953"
             ],
             [
              0.7777777777777778,
              "#fb9f3a"
             ],
             [
              0.8888888888888888,
              "#fdca26"
             ],
             [
              1,
              "#f0f921"
             ]
            ],
            "type": "heatmapgl"
           }
          ],
          "histogram": [
           {
            "marker": {
             "pattern": {
              "fillmode": "overlay",
              "size": 10,
              "solidity": 0.2
             }
            },
            "type": "histogram"
           }
          ],
          "histogram2d": [
           {
            "colorbar": {
             "outlinewidth": 0,
             "ticks": ""
            },
            "colorscale": [
             [
              0,
              "#0d0887"
             ],
             [
              0.1111111111111111,
              "#46039f"
             ],
             [
              0.2222222222222222,
              "#7201a8"
             ],
             [
              0.3333333333333333,
              "#9c179e"
             ],
             [
              0.4444444444444444,
              "#bd3786"
             ],
             [
              0.5555555555555556,
              "#d8576b"
             ],
             [
              0.6666666666666666,
              "#ed7953"
             ],
             [
              0.7777777777777778,
              "#fb9f3a"
             ],
             [
              0.8888888888888888,
              "#fdca26"
             ],
             [
              1,
              "#f0f921"
             ]
            ],
            "type": "histogram2d"
           }
          ],
          "histogram2dcontour": [
           {
            "colorbar": {
             "outlinewidth": 0,
             "ticks": ""
            },
            "colorscale": [
             [
              0,
              "#0d0887"
             ],
             [
              0.1111111111111111,
              "#46039f"
             ],
             [
              0.2222222222222222,
              "#7201a8"
             ],
             [
              0.3333333333333333,
              "#9c179e"
             ],
             [
              0.4444444444444444,
              "#bd3786"
             ],
             [
              0.5555555555555556,
              "#d8576b"
             ],
             [
              0.6666666666666666,
              "#ed7953"
             ],
             [
              0.7777777777777778,
              "#fb9f3a"
             ],
             [
              0.8888888888888888,
              "#fdca26"
             ],
             [
              1,
              "#f0f921"
             ]
            ],
            "type": "histogram2dcontour"
           }
          ],
          "mesh3d": [
           {
            "colorbar": {
             "outlinewidth": 0,
             "ticks": ""
            },
            "type": "mesh3d"
           }
          ],
          "parcoords": [
           {
            "line": {
             "colorbar": {
              "outlinewidth": 0,
              "ticks": ""
             }
            },
            "type": "parcoords"
           }
          ],
          "pie": [
           {
            "automargin": true,
            "type": "pie"
           }
          ],
          "scatter": [
           {
            "fillpattern": {
             "fillmode": "overlay",
             "size": 10,
             "solidity": 0.2
            },
            "type": "scatter"
           }
          ],
          "scatter3d": [
           {
            "line": {
             "colorbar": {
              "outlinewidth": 0,
              "ticks": ""
             }
            },
            "marker": {
             "colorbar": {
              "outlinewidth": 0,
              "ticks": ""
             }
            },
            "type": "scatter3d"
           }
          ],
          "scattercarpet": [
           {
            "marker": {
             "colorbar": {
              "outlinewidth": 0,
              "ticks": ""
             }
            },
            "type": "scattercarpet"
           }
          ],
          "scattergeo": [
           {
            "marker": {
             "colorbar": {
              "outlinewidth": 0,
              "ticks": ""
             }
            },
            "type": "scattergeo"
           }
          ],
          "scattergl": [
           {
            "marker": {
             "colorbar": {
              "outlinewidth": 0,
              "ticks": ""
             }
            },
            "type": "scattergl"
           }
          ],
          "scattermapbox": [
           {
            "marker": {
             "colorbar": {
              "outlinewidth": 0,
              "ticks": ""
             }
            },
            "type": "scattermapbox"
           }
          ],
          "scatterpolar": [
           {
            "marker": {
             "colorbar": {
              "outlinewidth": 0,
              "ticks": ""
             }
            },
            "type": "scatterpolar"
           }
          ],
          "scatterpolargl": [
           {
            "marker": {
             "colorbar": {
              "outlinewidth": 0,
              "ticks": ""
             }
            },
            "type": "scatterpolargl"
           }
          ],
          "scatterternary": [
           {
            "marker": {
             "colorbar": {
              "outlinewidth": 0,
              "ticks": ""
             }
            },
            "type": "scatterternary"
           }
          ],
          "surface": [
           {
            "colorbar": {
             "outlinewidth": 0,
             "ticks": ""
            },
            "colorscale": [
             [
              0,
              "#0d0887"
             ],
             [
              0.1111111111111111,
              "#46039f"
             ],
             [
              0.2222222222222222,
              "#7201a8"
             ],
             [
              0.3333333333333333,
              "#9c179e"
             ],
             [
              0.4444444444444444,
              "#bd3786"
             ],
             [
              0.5555555555555556,
              "#d8576b"
             ],
             [
              0.6666666666666666,
              "#ed7953"
             ],
             [
              0.7777777777777778,
              "#fb9f3a"
             ],
             [
              0.8888888888888888,
              "#fdca26"
             ],
             [
              1,
              "#f0f921"
             ]
            ],
            "type": "surface"
           }
          ],
          "table": [
           {
            "cells": {
             "fill": {
              "color": "#EBF0F8"
             },
             "line": {
              "color": "white"
             }
            },
            "header": {
             "fill": {
              "color": "#C8D4E3"
             },
             "line": {
              "color": "white"
             }
            },
            "type": "table"
           }
          ]
         },
         "layout": {
          "annotationdefaults": {
           "arrowcolor": "#2a3f5f",
           "arrowhead": 0,
           "arrowwidth": 1
          },
          "autotypenumbers": "strict",
          "coloraxis": {
           "colorbar": {
            "outlinewidth": 0,
            "ticks": ""
           }
          },
          "colorscale": {
           "diverging": [
            [
             0,
             "#8e0152"
            ],
            [
             0.1,
             "#c51b7d"
            ],
            [
             0.2,
             "#de77ae"
            ],
            [
             0.3,
             "#f1b6da"
            ],
            [
             0.4,
             "#fde0ef"
            ],
            [
             0.5,
             "#f7f7f7"
            ],
            [
             0.6,
             "#e6f5d0"
            ],
            [
             0.7,
             "#b8e186"
            ],
            [
             0.8,
             "#7fbc41"
            ],
            [
             0.9,
             "#4d9221"
            ],
            [
             1,
             "#276419"
            ]
           ],
           "sequential": [
            [
             0,
             "#0d0887"
            ],
            [
             0.1111111111111111,
             "#46039f"
            ],
            [
             0.2222222222222222,
             "#7201a8"
            ],
            [
             0.3333333333333333,
             "#9c179e"
            ],
            [
             0.4444444444444444,
             "#bd3786"
            ],
            [
             0.5555555555555556,
             "#d8576b"
            ],
            [
             0.6666666666666666,
             "#ed7953"
            ],
            [
             0.7777777777777778,
             "#fb9f3a"
            ],
            [
             0.8888888888888888,
             "#fdca26"
            ],
            [
             1,
             "#f0f921"
            ]
           ],
           "sequentialminus": [
            [
             0,
             "#0d0887"
            ],
            [
             0.1111111111111111,
             "#46039f"
            ],
            [
             0.2222222222222222,
             "#7201a8"
            ],
            [
             0.3333333333333333,
             "#9c179e"
            ],
            [
             0.4444444444444444,
             "#bd3786"
            ],
            [
             0.5555555555555556,
             "#d8576b"
            ],
            [
             0.6666666666666666,
             "#ed7953"
            ],
            [
             0.7777777777777778,
             "#fb9f3a"
            ],
            [
             0.8888888888888888,
             "#fdca26"
            ],
            [
             1,
             "#f0f921"
            ]
           ]
          },
          "colorway": [
           "#636efa",
           "#EF553B",
           "#00cc96",
           "#ab63fa",
           "#FFA15A",
           "#19d3f3",
           "#FF6692",
           "#B6E880",
           "#FF97FF",
           "#FECB52"
          ],
          "font": {
           "color": "#2a3f5f"
          },
          "geo": {
           "bgcolor": "white",
           "lakecolor": "white",
           "landcolor": "#E5ECF6",
           "showlakes": true,
           "showland": true,
           "subunitcolor": "white"
          },
          "hoverlabel": {
           "align": "left"
          },
          "hovermode": "closest",
          "mapbox": {
           "style": "light"
          },
          "paper_bgcolor": "white",
          "plot_bgcolor": "#E5ECF6",
          "polar": {
           "angularaxis": {
            "gridcolor": "white",
            "linecolor": "white",
            "ticks": ""
           },
           "bgcolor": "#E5ECF6",
           "radialaxis": {
            "gridcolor": "white",
            "linecolor": "white",
            "ticks": ""
           }
          },
          "scene": {
           "xaxis": {
            "backgroundcolor": "#E5ECF6",
            "gridcolor": "white",
            "gridwidth": 2,
            "linecolor": "white",
            "showbackground": true,
            "ticks": "",
            "zerolinecolor": "white"
           },
           "yaxis": {
            "backgroundcolor": "#E5ECF6",
            "gridcolor": "white",
            "gridwidth": 2,
            "linecolor": "white",
            "showbackground": true,
            "ticks": "",
            "zerolinecolor": "white"
           },
           "zaxis": {
            "backgroundcolor": "#E5ECF6",
            "gridcolor": "white",
            "gridwidth": 2,
            "linecolor": "white",
            "showbackground": true,
            "ticks": "",
            "zerolinecolor": "white"
           }
          },
          "shapedefaults": {
           "line": {
            "color": "#2a3f5f"
           }
          },
          "ternary": {
           "aaxis": {
            "gridcolor": "white",
            "linecolor": "white",
            "ticks": ""
           },
           "baxis": {
            "gridcolor": "white",
            "linecolor": "white",
            "ticks": ""
           },
           "bgcolor": "#E5ECF6",
           "caxis": {
            "gridcolor": "white",
            "linecolor": "white",
            "ticks": ""
           }
          },
          "title": {
           "x": 0.05
          },
          "xaxis": {
           "automargin": true,
           "gridcolor": "white",
           "linecolor": "white",
           "ticks": "",
           "title": {
            "standoff": 15
           },
           "zerolinecolor": "white",
           "zerolinewidth": 2
          },
          "yaxis": {
           "automargin": true,
           "gridcolor": "white",
           "linecolor": "white",
           "ticks": "",
           "title": {
            "standoff": 15
           },
           "zerolinecolor": "white",
           "zerolinewidth": 2
          }
         }
        },
        "title": {
         "text": "Data Quality: Column Shapes (Average Score=0.96)"
        },
        "xaxis": {
         "anchor": "y",
         "categoryorder": "total ascending",
         "domain": [
          0,
          1
         ],
         "title": {
          "text": "Column"
         }
        },
        "yaxis": {
         "anchor": "x",
         "domain": [
          0,
          1
         ],
         "range": [
          0,
          1
         ],
         "title": {
          "text": "Score"
         }
        }
       }
      }
     },
     "metadata": {},
     "output_type": "display_data"
    }
   ],
   "source": [
    "# plot Column Shapes -> referred to the \"Fidelity Column\" in the paper\n",
    "fig = quality_report.get_visualization(property_name='Column Shapes')\n",
    "fig\n",
    "    "
   ]
  },
  {
   "cell_type": "code",
   "execution_count": 13,
   "metadata": {},
   "outputs": [
    {
     "data": {
      "application/vnd.plotly.v1+json": {
       "config": {
        "plotlyServerURL": "https://plot.ly"
       },
       "data": [
        {
         "coloraxis": "coloraxis",
         "hovertemplate": "<b>Column Pair</b><br>(%{x},%{y})<br><br>Similarity: %{z}<extra></extra>",
         "type": "heatmap",
         "x": [
          "SEX",
          "EDUCATION",
          "MARRIAGE",
          "AGE",
          "PAY0",
          "PAY2",
          "PAY3",
          "PAY4",
          "PAY5",
          "PAY6",
          "LIMITBAL",
          "BILLAMT1",
          "BILLAMT2",
          "BILLAMT3",
          "BILLAMT4",
          "BILLAMT5",
          "BILLAMT6",
          "PAYAMT1",
          "PAYAMT2",
          "PAYAMT3",
          "PAYAMT4",
          "PAYAMT5",
          "PAYAMT6"
         ],
         "xaxis": "x",
         "y": [
          "SEX",
          "EDUCATION",
          "MARRIAGE",
          "AGE",
          "PAY0",
          "PAY2",
          "PAY3",
          "PAY4",
          "PAY5",
          "PAY6",
          "LIMITBAL",
          "BILLAMT1",
          "BILLAMT2",
          "BILLAMT3",
          "BILLAMT4",
          "BILLAMT5",
          "BILLAMT6",
          "PAYAMT1",
          "PAYAMT2",
          "PAYAMT3",
          "PAYAMT4",
          "PAYAMT5",
          "PAYAMT6"
         ],
         "yaxis": "y",
         "z": [
          [
           1,
           0.983,
           0.988,
           0.649,
           0.979,
           0.985,
           0.962,
           0.988,
           0.906,
           0.979,
           0.976,
           0.271,
           0.925,
           0.461,
           0.173,
           0.471,
           0.239,
           0.998,
           0.998,
           0.998,
           0.997,
           0.996,
           0.994
          ],
          [
           0.983,
           1,
           0.97,
           0.63,
           0.967,
           0.97,
           0.952,
           0.972,
           0.896,
           0.969,
           0.963,
           0.266,
           0.922,
           0.454,
           0.173,
           0.464,
           0.237,
           0.981,
           0.983,
           0.981,
           0.981,
           0.981,
           0.981
          ],
          [
           0.988,
           0.97,
           1,
           0.595,
           0.973,
           0.979,
           0.956,
           0.981,
           0.9,
           0.973,
           0.971,
           0.271,
           0.924,
           0.459,
           0.173,
           0.469,
           0.239,
           0.987,
           0.988,
           0.987,
           0.987,
           0.986,
           0.985
          ],
          [
           0.649,
           0.63,
           0.595,
           1,
           0.642,
           0.64,
           0.634,
           0.644,
           0.6,
           0.644,
           0.618,
           0.268,
           0.622,
           0.398,
           0.135,
           0.429,
           0.235,
           0.649,
           0.649,
           0.649,
           0.649,
           0.647,
           0.645
          ],
          [
           0.979,
           0.967,
           0.973,
           0.642,
           1,
           0.964,
           0.955,
           0.971,
           0.896,
           0.968,
           0.963,
           0.271,
           0.919,
           0.42,
           0.173,
           0.469,
           0.239,
           0.978,
           0.979,
           0.978,
           0.977,
           0.977,
           0.977
          ],
          [
           0.985,
           0.97,
           0.979,
           0.64,
           0.964,
           1,
           0.949,
           0.967,
           0.89,
           0.967,
           0.965,
           0.271,
           0.916,
           0.412,
           0.173,
           0.471,
           0.239,
           0.984,
           0.985,
           0.984,
           0.983,
           0.982,
           0.981
          ],
          [
           0.962,
           0.952,
           0.956,
           0.634,
           0.955,
           0.949,
           1,
           0.947,
           0.879,
           0.949,
           0.951,
           0.271,
           0.905,
           0.405,
           0.173,
           0.469,
           0.239,
           0.959,
           0.961,
           0.96,
           0.959,
           0.958,
           0.957
          ],
          [
           0.988,
           0.972,
           0.981,
           0.644,
           0.971,
           0.967,
           0.947,
           1,
           0.895,
           0.972,
           0.964,
           0.27,
           0.921,
           0.4,
           0.173,
           0.469,
           0.239,
           0.988,
           0.99,
           0.988,
           0.988,
           0.988,
           0.986
          ],
          [
           0.906,
           0.896,
           0.9,
           0.6,
           0.896,
           0.89,
           0.879,
           0.895,
           1,
           0.891,
           0.893,
           0.271,
           0.842,
           0.407,
           0.172,
           0.461,
           0.239,
           0.903,
           0.905,
           0.903,
           0.904,
           0.902,
           0.902
          ],
          [
           0.979,
           0.969,
           0.973,
           0.644,
           0.968,
           0.967,
           0.949,
           0.972,
           0.891,
           1,
           0.958,
           0.271,
           0.918,
           0.416,
           0.173,
           0.47,
           0.239,
           0.977,
           0.979,
           0.977,
           0.976,
           0.977,
           0.977
          ],
          [
           0.976,
           0.963,
           0.971,
           0.618,
           0.963,
           0.965,
           0.951,
           0.964,
           0.893,
           0.958,
           1,
           0.996,
           0.996,
           0.995,
           0.995,
           0.996,
           0.994,
           0.983,
           0.996,
           0.986,
           0.987,
           0.989,
           0.982
          ],
          [
           0.271,
           0.266,
           0.271,
           0.268,
           0.271,
           0.271,
           0.271,
           0.27,
           0.271,
           0.271,
           0.996,
           1,
           0.996,
           0.988,
           0.991,
           0.99,
           0.996,
           0.991,
           0.992,
           0.977,
           0.979,
           0.972,
           0.972
          ],
          [
           0.925,
           0.922,
           0.924,
           0.622,
           0.919,
           0.916,
           0.905,
           0.921,
           0.842,
           0.918,
           0.996,
           0.996,
           1,
           0.989,
           0.991,
           0.989,
           0.996,
           0.978,
           0.993,
           0.976,
           0.983,
           0.979,
           0.974
          ],
          [
           0.461,
           0.454,
           0.459,
           0.398,
           0.42,
           0.412,
           0.405,
           0.4,
           0.407,
           0.416,
           0.995,
           0.988,
           0.989,
           1,
           0.986,
           0.985,
           0.989,
           0.983,
           0.965,
           0.985,
           0.98,
           0.971,
           0.971
          ],
          [
           0.173,
           0.173,
           0.173,
           0.135,
           0.173,
           0.173,
           0.173,
           0.173,
           0.172,
           0.173,
           0.995,
           0.991,
           0.991,
           0.986,
           1,
           0.994,
           0.997,
           0.982,
           1,
           0.973,
           0.988,
           0.983,
           0.973
          ],
          [
           0.471,
           0.464,
           0.469,
           0.429,
           0.469,
           0.471,
           0.469,
           0.469,
           0.461,
           0.47,
           0.996,
           0.99,
           0.989,
           0.985,
           0.994,
           1,
           0.999,
           0.982,
           0.998,
           0.971,
           0.983,
           0.988,
           0.978
          ],
          [
           0.239,
           0.237,
           0.239,
           0.235,
           0.239,
           0.239,
           0.239,
           0.239,
           0.239,
           0.239,
           0.994,
           0.996,
           0.996,
           0.989,
           0.997,
           0.999,
           1,
           0.984,
           0.995,
           0.975,
           0.972,
           0.986,
           0.991
          ],
          [
           0.998,
           0.981,
           0.987,
           0.649,
           0.978,
           0.984,
           0.959,
           0.988,
           0.903,
           0.977,
           0.983,
           0.991,
           0.978,
           0.983,
           0.982,
           0.982,
           0.984,
           1,
           0.934,
           0.923,
           0.944,
           0.981,
           0.964
          ],
          [
           0.998,
           0.983,
           0.988,
           0.649,
           0.979,
           0.985,
           0.961,
           0.99,
           0.905,
           0.979,
           0.996,
           0.992,
           0.993,
           0.965,
           1,
           0.998,
           0.995,
           0.934,
           1,
           0.931,
           0.951,
           0.96,
           0.978
          ],
          [
           0.998,
           0.981,
           0.987,
           0.649,
           0.978,
           0.984,
           0.96,
           0.988,
           0.903,
           0.977,
           0.986,
           0.977,
           0.976,
           0.985,
           0.973,
           0.971,
           0.975,
           0.923,
           0.931,
           1,
           0.953,
           0.99,
           0.978
          ],
          [
           0.997,
           0.981,
           0.987,
           0.649,
           0.977,
           0.983,
           0.959,
           0.988,
           0.904,
           0.976,
           0.987,
           0.979,
           0.983,
           0.98,
           0.988,
           0.983,
           0.972,
           0.944,
           0.951,
           0.953,
           1,
           0.983,
           0.971
          ],
          [
           0.996,
           0.981,
           0.986,
           0.647,
           0.977,
           0.982,
           0.958,
           0.988,
           0.902,
           0.977,
           0.989,
           0.972,
           0.979,
           0.971,
           0.983,
           0.988,
           0.986,
           0.981,
           0.96,
           0.99,
           0.983,
           1,
           0.994
          ],
          [
           0.994,
           0.981,
           0.985,
           0.645,
           0.977,
           0.981,
           0.957,
           0.986,
           0.902,
           0.977,
           0.982,
           0.972,
           0.974,
           0.971,
           0.973,
           0.978,
           0.991,
           0.964,
           0.978,
           0.978,
           0.971,
           0.994,
           1
          ]
         ]
        },
        {
         "coloraxis": "coloraxis2",
         "customdata": [
          [
           1,
           0.277,
           0.27,
           0.273,
           0.285,
           0.288,
           0.279,
           0.161,
           0.17,
           0.183,
           0.177,
           0.195,
           0.184
          ],
          [
           0.277,
           1,
           0.96,
           0.916,
           0.878,
           0.85,
           0.81,
           0.122,
           0.114,
           0.112,
           0.117,
           0.112,
           0.124
          ],
          [
           0.27,
           0.96,
           1,
           0.95,
           0.91,
           0.882,
           0.84,
           0.236,
           0.114,
           0.103,
           0.113,
           0.116,
           0.123
          ],
          [
           0.273,
           0.916,
           0.95,
           1,
           0.952,
           0.914,
           0.875,
           0.209,
           0.247,
           0.1,
           0.103,
           0.122,
           0.125
          ],
          [
           0.285,
           0.878,
           0.91,
           0.952,
           1,
           0.952,
           0.907,
           0.197,
           0.207,
           0.246,
           0.107,
           0.126,
           0.124
          ],
          [
           0.288,
           0.85,
           0.882,
           0.914,
           0.952,
           1,
           0.947,
           0.18,
           0.186,
           0.194,
           0.259,
           0.117,
           0.12
          ],
          [
           0.279,
           0.81,
           0.84,
           0.875,
           0.907,
           0.947,
           1,
           0.169,
           0.162,
           0.183,
           0.194,
           0.28,
           0.097
          ],
          [
           0.161,
           0.122,
           0.236,
           0.209,
           0.197,
           0.18,
           0.169,
           1,
           0.154,
           0.099,
           0.088,
           0.111,
           0.113
          ],
          [
           0.17,
           0.114,
           0.114,
           0.247,
           0.207,
           0.186,
           0.162,
           0.154,
           1,
           0.106,
           0.083,
           0.101,
           0.114
          ],
          [
           0.183,
           0.112,
           0.103,
           0.1,
           0.246,
           0.194,
           0.183,
           0.099,
           0.106,
           1,
           0.123,
           0.14,
           0.119
          ],
          [
           0.177,
           0.117,
           0.113,
           0.103,
           0.107,
           0.259,
           0.194,
           0.088,
           0.083,
           0.123,
           1,
           0.118,
           0.1
          ],
          [
           0.195,
           0.112,
           0.116,
           0.122,
           0.126,
           0.117,
           0.28,
           0.111,
           0.101,
           0.14,
           0.118,
           1,
           0.142
          ],
          [
           0.184,
           0.124,
           0.123,
           0.125,
           0.124,
           0.12,
           0.097,
           0.113,
           0.114,
           0.119,
           0.1,
           0.142,
           1
          ]
         ],
         "hovertemplate": "<b>Correlation</b><br>(%{x},%{y})<br><br>Synthetic: %{z}<br>(vs. Real: %{customdata})<extra></extra>",
         "type": "heatmap",
         "x": [
          "LIMITBAL",
          "BILLAMT1",
          "BILLAMT2",
          "BILLAMT3",
          "BILLAMT4",
          "BILLAMT5",
          "BILLAMT6",
          "PAYAMT1",
          "PAYAMT2",
          "PAYAMT3",
          "PAYAMT4",
          "PAYAMT5",
          "PAYAMT6"
         ],
         "xaxis": "x2",
         "y": [
          "LIMITBAL",
          "BILLAMT1",
          "BILLAMT2",
          "BILLAMT3",
          "BILLAMT4",
          "BILLAMT5",
          "BILLAMT6",
          "PAYAMT1",
          "PAYAMT2",
          "PAYAMT3",
          "PAYAMT4",
          "PAYAMT5",
          "PAYAMT6"
         ],
         "yaxis": "y2",
         "z": [
          [
           1,
           0.285,
           0.278,
           0.283,
           0.294,
           0.296,
           0.29,
           0.195,
           0.178,
           0.21,
           0.203,
           0.217,
           0.22
          ],
          [
           0.285,
           1,
           0.951,
           0.892,
           0.86,
           0.83,
           0.803,
           0.14,
           0.099,
           0.157,
           0.158,
           0.167,
           0.179
          ],
          [
           0.278,
           0.951,
           1,
           0.928,
           0.892,
           0.86,
           0.832,
           0.28,
           0.101,
           0.151,
           0.147,
           0.158,
           0.174
          ],
          [
           0.283,
           0.892,
           0.928,
           1,
           0.924,
           0.884,
           0.853,
           0.244,
           0.317,
           0.13,
           0.143,
           0.18,
           0.182
          ],
          [
           0.294,
           0.86,
           0.892,
           0.924,
           1,
           0.94,
           0.901,
           0.233,
           0.208,
           0.3,
           0.13,
           0.16,
           0.178
          ],
          [
           0.296,
           0.83,
           0.86,
           0.884,
           0.94,
           1,
           0.946,
           0.217,
           0.181,
           0.252,
           0.293,
           0.142,
           0.164
          ],
          [
           0.29,
           0.803,
           0.832,
           0.853,
           0.901,
           0.946,
           1,
           0.2,
           0.173,
           0.234,
           0.25,
           0.308,
           0.115
          ],
          [
           0.195,
           0.14,
           0.28,
           0.244,
           0.233,
           0.217,
           0.2,
           1,
           0.286,
           0.252,
           0.2,
           0.148,
           0.186
          ],
          [
           0.178,
           0.099,
           0.101,
           0.317,
           0.208,
           0.181,
           0.173,
           0.286,
           1,
           0.245,
           0.18,
           0.181,
           0.158
          ],
          [
           0.21,
           0.157,
           0.151,
           0.13,
           0.3,
           0.252,
           0.234,
           0.252,
           0.245,
           1,
           0.216,
           0.159,
           0.163
          ],
          [
           0.203,
           0.158,
           0.147,
           0.143,
           0.13,
           0.293,
           0.25,
           0.2,
           0.18,
           0.216,
           1,
           0.152,
           0.158
          ],
          [
           0.217,
           0.167,
           0.158,
           0.18,
           0.16,
           0.142,
           0.308,
           0.148,
           0.181,
           0.159,
           0.152,
           1,
           0.155
          ],
          [
           0.22,
           0.179,
           0.174,
           0.182,
           0.178,
           0.164,
           0.115,
           0.186,
           0.158,
           0.163,
           0.158,
           0.155,
           1
          ]
         ]
        },
        {
         "coloraxis": "coloraxis2",
         "customdata": [
          [
           1,
           0.285,
           0.278,
           0.283,
           0.294,
           0.296,
           0.29,
           0.195,
           0.178,
           0.21,
           0.203,
           0.217,
           0.22
          ],
          [
           0.285,
           1,
           0.951,
           0.892,
           0.86,
           0.83,
           0.803,
           0.14,
           0.099,
           0.157,
           0.158,
           0.167,
           0.179
          ],
          [
           0.278,
           0.951,
           1,
           0.928,
           0.892,
           0.86,
           0.832,
           0.28,
           0.101,
           0.151,
           0.147,
           0.158,
           0.174
          ],
          [
           0.283,
           0.892,
           0.928,
           1,
           0.924,
           0.884,
           0.853,
           0.244,
           0.317,
           0.13,
           0.143,
           0.18,
           0.182
          ],
          [
           0.294,
           0.86,
           0.892,
           0.924,
           1,
           0.94,
           0.901,
           0.233,
           0.208,
           0.3,
           0.13,
           0.16,
           0.178
          ],
          [
           0.296,
           0.83,
           0.86,
           0.884,
           0.94,
           1,
           0.946,
           0.217,
           0.181,
           0.252,
           0.293,
           0.142,
           0.164
          ],
          [
           0.29,
           0.803,
           0.832,
           0.853,
           0.901,
           0.946,
           1,
           0.2,
           0.173,
           0.234,
           0.25,
           0.308,
           0.115
          ],
          [
           0.195,
           0.14,
           0.28,
           0.244,
           0.233,
           0.217,
           0.2,
           1,
           0.286,
           0.252,
           0.2,
           0.148,
           0.186
          ],
          [
           0.178,
           0.099,
           0.101,
           0.317,
           0.208,
           0.181,
           0.173,
           0.286,
           1,
           0.245,
           0.18,
           0.181,
           0.158
          ],
          [
           0.21,
           0.157,
           0.151,
           0.13,
           0.3,
           0.252,
           0.234,
           0.252,
           0.245,
           1,
           0.216,
           0.159,
           0.163
          ],
          [
           0.203,
           0.158,
           0.147,
           0.143,
           0.13,
           0.293,
           0.25,
           0.2,
           0.18,
           0.216,
           1,
           0.152,
           0.158
          ],
          [
           0.217,
           0.167,
           0.158,
           0.18,
           0.16,
           0.142,
           0.308,
           0.148,
           0.181,
           0.159,
           0.152,
           1,
           0.155
          ],
          [
           0.22,
           0.179,
           0.174,
           0.182,
           0.178,
           0.164,
           0.115,
           0.186,
           0.158,
           0.163,
           0.158,
           0.155,
           1
          ]
         ],
         "hovertemplate": "<b>Correlation</b><br>(%{x},%{y})<br><br>Synthetic: %{z}<br>(vs. Real: %{customdata})<extra></extra>",
         "type": "heatmap",
         "x": [
          "LIMITBAL",
          "BILLAMT1",
          "BILLAMT2",
          "BILLAMT3",
          "BILLAMT4",
          "BILLAMT5",
          "BILLAMT6",
          "PAYAMT1",
          "PAYAMT2",
          "PAYAMT3",
          "PAYAMT4",
          "PAYAMT5",
          "PAYAMT6"
         ],
         "xaxis": "x3",
         "y": [
          "LIMITBAL",
          "BILLAMT1",
          "BILLAMT2",
          "BILLAMT3",
          "BILLAMT4",
          "BILLAMT5",
          "BILLAMT6",
          "PAYAMT1",
          "PAYAMT2",
          "PAYAMT3",
          "PAYAMT4",
          "PAYAMT5",
          "PAYAMT6"
         ],
         "yaxis": "y3",
         "z": [
          [
           1,
           0.277,
           0.27,
           0.273,
           0.285,
           0.288,
           0.279,
           0.161,
           0.17,
           0.183,
           0.177,
           0.195,
           0.184
          ],
          [
           0.277,
           1,
           0.96,
           0.916,
           0.878,
           0.85,
           0.81,
           0.122,
           0.114,
           0.112,
           0.117,
           0.112,
           0.124
          ],
          [
           0.27,
           0.96,
           1,
           0.95,
           0.91,
           0.882,
           0.84,
           0.236,
           0.114,
           0.103,
           0.113,
           0.116,
           0.123
          ],
          [
           0.273,
           0.916,
           0.95,
           1,
           0.952,
           0.914,
           0.875,
           0.209,
           0.247,
           0.1,
           0.103,
           0.122,
           0.125
          ],
          [
           0.285,
           0.878,
           0.91,
           0.952,
           1,
           0.952,
           0.907,
           0.197,
           0.207,
           0.246,
           0.107,
           0.126,
           0.124
          ],
          [
           0.288,
           0.85,
           0.882,
           0.914,
           0.952,
           1,
           0.947,
           0.18,
           0.186,
           0.194,
           0.259,
           0.117,
           0.12
          ],
          [
           0.279,
           0.81,
           0.84,
           0.875,
           0.907,
           0.947,
           1,
           0.169,
           0.162,
           0.183,
           0.194,
           0.28,
           0.097
          ],
          [
           0.161,
           0.122,
           0.236,
           0.209,
           0.197,
           0.18,
           0.169,
           1,
           0.154,
           0.099,
           0.088,
           0.111,
           0.113
          ],
          [
           0.17,
           0.114,
           0.114,
           0.247,
           0.207,
           0.186,
           0.162,
           0.154,
           1,
           0.106,
           0.083,
           0.101,
           0.114
          ],
          [
           0.183,
           0.112,
           0.103,
           0.1,
           0.246,
           0.194,
           0.183,
           0.099,
           0.106,
           1,
           0.123,
           0.14,
           0.119
          ],
          [
           0.177,
           0.117,
           0.113,
           0.103,
           0.107,
           0.259,
           0.194,
           0.088,
           0.083,
           0.123,
           1,
           0.118,
           0.1
          ],
          [
           0.195,
           0.112,
           0.116,
           0.122,
           0.126,
           0.117,
           0.28,
           0.111,
           0.101,
           0.14,
           0.118,
           1,
           0.142
          ],
          [
           0.184,
           0.124,
           0.123,
           0.125,
           0.124,
           0.12,
           0.097,
           0.113,
           0.114,
           0.119,
           0.1,
           0.142,
           1
          ]
         ]
        }
       ],
       "layout": {
        "annotations": [
         {
          "font": {
           "size": 16
          },
          "showarrow": false,
          "text": "Real vs. Synthetic Similarity",
          "x": 0.5,
          "xanchor": "center",
          "xref": "paper",
          "y": 1,
          "yanchor": "bottom",
          "yref": "paper"
         },
         {
          "font": {
           "size": 16
          },
          "showarrow": false,
          "text": "Numerical Correlation (Real Data)",
          "x": 0.225,
          "xanchor": "center",
          "xref": "paper",
          "y": 0.375,
          "yanchor": "bottom",
          "yref": "paper"
         },
         {
          "font": {
           "size": 16
          },
          "showarrow": false,
          "text": "Numerical Correlation (Synthetic Data)",
          "x": 0.775,
          "xanchor": "center",
          "xref": "paper",
          "y": 0.375,
          "yanchor": "bottom",
          "yref": "paper"
         }
        ],
        "coloraxis": {
         "cmax": 1,
         "cmin": 0,
         "colorbar": {
          "len": 0.5,
          "x": 0.8,
          "y": 0.8
         },
         "colorscale": [
          [
           0,
           "#FF0000"
          ],
          [
           0.5,
           "#F16141"
          ],
          [
           1,
           "#36B37E"
          ]
         ]
        },
        "coloraxis2": {
         "cmax": 1,
         "cmin": -1,
         "colorbar": {
          "len": 0.5,
          "y": 0.2
         },
         "colorscale": [
          [
           0,
           "#03AFF1"
          ],
          [
           0.5,
           "#000036"
          ],
          [
           1,
           "#01E0C9"
          ]
         ]
        },
        "font": {
         "size": 18
        },
        "height": 900,
        "template": {
         "data": {
          "bar": [
           {
            "error_x": {
             "color": "#2a3f5f"
            },
            "error_y": {
             "color": "#2a3f5f"
            },
            "marker": {
             "line": {
              "color": "#E5ECF6",
              "width": 0.5
             },
             "pattern": {
              "fillmode": "overlay",
              "size": 10,
              "solidity": 0.2
             }
            },
            "type": "bar"
           }
          ],
          "barpolar": [
           {
            "marker": {
             "line": {
              "color": "#E5ECF6",
              "width": 0.5
             },
             "pattern": {
              "fillmode": "overlay",
              "size": 10,
              "solidity": 0.2
             }
            },
            "type": "barpolar"
           }
          ],
          "carpet": [
           {
            "aaxis": {
             "endlinecolor": "#2a3f5f",
             "gridcolor": "white",
             "linecolor": "white",
             "minorgridcolor": "white",
             "startlinecolor": "#2a3f5f"
            },
            "baxis": {
             "endlinecolor": "#2a3f5f",
             "gridcolor": "white",
             "linecolor": "white",
             "minorgridcolor": "white",
             "startlinecolor": "#2a3f5f"
            },
            "type": "carpet"
           }
          ],
          "choropleth": [
           {
            "colorbar": {
             "outlinewidth": 0,
             "ticks": ""
            },
            "type": "choropleth"
           }
          ],
          "contour": [
           {
            "colorbar": {
             "outlinewidth": 0,
             "ticks": ""
            },
            "colorscale": [
             [
              0,
              "#0d0887"
             ],
             [
              0.1111111111111111,
              "#46039f"
             ],
             [
              0.2222222222222222,
              "#7201a8"
             ],
             [
              0.3333333333333333,
              "#9c179e"
             ],
             [
              0.4444444444444444,
              "#bd3786"
             ],
             [
              0.5555555555555556,
              "#d8576b"
             ],
             [
              0.6666666666666666,
              "#ed7953"
             ],
             [
              0.7777777777777778,
              "#fb9f3a"
             ],
             [
              0.8888888888888888,
              "#fdca26"
             ],
             [
              1,
              "#f0f921"
             ]
            ],
            "type": "contour"
           }
          ],
          "contourcarpet": [
           {
            "colorbar": {
             "outlinewidth": 0,
             "ticks": ""
            },
            "type": "contourcarpet"
           }
          ],
          "heatmap": [
           {
            "colorbar": {
             "outlinewidth": 0,
             "ticks": ""
            },
            "colorscale": [
             [
              0,
              "#0d0887"
             ],
             [
              0.1111111111111111,
              "#46039f"
             ],
             [
              0.2222222222222222,
              "#7201a8"
             ],
             [
              0.3333333333333333,
              "#9c179e"
             ],
             [
              0.4444444444444444,
              "#bd3786"
             ],
             [
              0.5555555555555556,
              "#d8576b"
             ],
             [
              0.6666666666666666,
              "#ed7953"
             ],
             [
              0.7777777777777778,
              "#fb9f3a"
             ],
             [
              0.8888888888888888,
              "#fdca26"
             ],
             [
              1,
              "#f0f921"
             ]
            ],
            "type": "heatmap"
           }
          ],
          "heatmapgl": [
           {
            "colorbar": {
             "outlinewidth": 0,
             "ticks": ""
            },
            "colorscale": [
             [
              0,
              "#0d0887"
             ],
             [
              0.1111111111111111,
              "#46039f"
             ],
             [
              0.2222222222222222,
              "#7201a8"
             ],
             [
              0.3333333333333333,
              "#9c179e"
             ],
             [
              0.4444444444444444,
              "#bd3786"
             ],
             [
              0.5555555555555556,
              "#d8576b"
             ],
             [
              0.6666666666666666,
              "#ed7953"
             ],
             [
              0.7777777777777778,
              "#fb9f3a"
             ],
             [
              0.8888888888888888,
              "#fdca26"
             ],
             [
              1,
              "#f0f921"
             ]
            ],
            "type": "heatmapgl"
           }
          ],
          "histogram": [
           {
            "marker": {
             "pattern": {
              "fillmode": "overlay",
              "size": 10,
              "solidity": 0.2
             }
            },
            "type": "histogram"
           }
          ],
          "histogram2d": [
           {
            "colorbar": {
             "outlinewidth": 0,
             "ticks": ""
            },
            "colorscale": [
             [
              0,
              "#0d0887"
             ],
             [
              0.1111111111111111,
              "#46039f"
             ],
             [
              0.2222222222222222,
              "#7201a8"
             ],
             [
              0.3333333333333333,
              "#9c179e"
             ],
             [
              0.4444444444444444,
              "#bd3786"
             ],
             [
              0.5555555555555556,
              "#d8576b"
             ],
             [
              0.6666666666666666,
              "#ed7953"
             ],
             [
              0.7777777777777778,
              "#fb9f3a"
             ],
             [
              0.8888888888888888,
              "#fdca26"
             ],
             [
              1,
              "#f0f921"
             ]
            ],
            "type": "histogram2d"
           }
          ],
          "histogram2dcontour": [
           {
            "colorbar": {
             "outlinewidth": 0,
             "ticks": ""
            },
            "colorscale": [
             [
              0,
              "#0d0887"
             ],
             [
              0.1111111111111111,
              "#46039f"
             ],
             [
              0.2222222222222222,
              "#7201a8"
             ],
             [
              0.3333333333333333,
              "#9c179e"
             ],
             [
              0.4444444444444444,
              "#bd3786"
             ],
             [
              0.5555555555555556,
              "#d8576b"
             ],
             [
              0.6666666666666666,
              "#ed7953"
             ],
             [
              0.7777777777777778,
              "#fb9f3a"
             ],
             [
              0.8888888888888888,
              "#fdca26"
             ],
             [
              1,
              "#f0f921"
             ]
            ],
            "type": "histogram2dcontour"
           }
          ],
          "mesh3d": [
           {
            "colorbar": {
             "outlinewidth": 0,
             "ticks": ""
            },
            "type": "mesh3d"
           }
          ],
          "parcoords": [
           {
            "line": {
             "colorbar": {
              "outlinewidth": 0,
              "ticks": ""
             }
            },
            "type": "parcoords"
           }
          ],
          "pie": [
           {
            "automargin": true,
            "type": "pie"
           }
          ],
          "scatter": [
           {
            "fillpattern": {
             "fillmode": "overlay",
             "size": 10,
             "solidity": 0.2
            },
            "type": "scatter"
           }
          ],
          "scatter3d": [
           {
            "line": {
             "colorbar": {
              "outlinewidth": 0,
              "ticks": ""
             }
            },
            "marker": {
             "colorbar": {
              "outlinewidth": 0,
              "ticks": ""
             }
            },
            "type": "scatter3d"
           }
          ],
          "scattercarpet": [
           {
            "marker": {
             "colorbar": {
              "outlinewidth": 0,
              "ticks": ""
             }
            },
            "type": "scattercarpet"
           }
          ],
          "scattergeo": [
           {
            "marker": {
             "colorbar": {
              "outlinewidth": 0,
              "ticks": ""
             }
            },
            "type": "scattergeo"
           }
          ],
          "scattergl": [
           {
            "marker": {
             "colorbar": {
              "outlinewidth": 0,
              "ticks": ""
             }
            },
            "type": "scattergl"
           }
          ],
          "scattermapbox": [
           {
            "marker": {
             "colorbar": {
              "outlinewidth": 0,
              "ticks": ""
             }
            },
            "type": "scattermapbox"
           }
          ],
          "scatterpolar": [
           {
            "marker": {
             "colorbar": {
              "outlinewidth": 0,
              "ticks": ""
             }
            },
            "type": "scatterpolar"
           }
          ],
          "scatterpolargl": [
           {
            "marker": {
             "colorbar": {
              "outlinewidth": 0,
              "ticks": ""
             }
            },
            "type": "scatterpolargl"
           }
          ],
          "scatterternary": [
           {
            "marker": {
             "colorbar": {
              "outlinewidth": 0,
              "ticks": ""
             }
            },
            "type": "scatterternary"
           }
          ],
          "surface": [
           {
            "colorbar": {
             "outlinewidth": 0,
             "ticks": ""
            },
            "colorscale": [
             [
              0,
              "#0d0887"
             ],
             [
              0.1111111111111111,
              "#46039f"
             ],
             [
              0.2222222222222222,
              "#7201a8"
             ],
             [
              0.3333333333333333,
              "#9c179e"
             ],
             [
              0.4444444444444444,
              "#bd3786"
             ],
             [
              0.5555555555555556,
              "#d8576b"
             ],
             [
              0.6666666666666666,
              "#ed7953"
             ],
             [
              0.7777777777777778,
              "#fb9f3a"
             ],
             [
              0.8888888888888888,
              "#fdca26"
             ],
             [
              1,
              "#f0f921"
             ]
            ],
            "type": "surface"
           }
          ],
          "table": [
           {
            "cells": {
             "fill": {
              "color": "#EBF0F8"
             },
             "line": {
              "color": "white"
             }
            },
            "header": {
             "fill": {
              "color": "#C8D4E3"
             },
             "line": {
              "color": "white"
             }
            },
            "type": "table"
           }
          ]
         },
         "layout": {
          "annotationdefaults": {
           "arrowcolor": "#2a3f5f",
           "arrowhead": 0,
           "arrowwidth": 1
          },
          "autotypenumbers": "strict",
          "coloraxis": {
           "colorbar": {
            "outlinewidth": 0,
            "ticks": ""
           }
          },
          "colorscale": {
           "diverging": [
            [
             0,
             "#8e0152"
            ],
            [
             0.1,
             "#c51b7d"
            ],
            [
             0.2,
             "#de77ae"
            ],
            [
             0.3,
             "#f1b6da"
            ],
            [
             0.4,
             "#fde0ef"
            ],
            [
             0.5,
             "#f7f7f7"
            ],
            [
             0.6,
             "#e6f5d0"
            ],
            [
             0.7,
             "#b8e186"
            ],
            [
             0.8,
             "#7fbc41"
            ],
            [
             0.9,
             "#4d9221"
            ],
            [
             1,
             "#276419"
            ]
           ],
           "sequential": [
            [
             0,
             "#0d0887"
            ],
            [
             0.1111111111111111,
             "#46039f"
            ],
            [
             0.2222222222222222,
             "#7201a8"
            ],
            [
             0.3333333333333333,
             "#9c179e"
            ],
            [
             0.4444444444444444,
             "#bd3786"
            ],
            [
             0.5555555555555556,
             "#d8576b"
            ],
            [
             0.6666666666666666,
             "#ed7953"
            ],
            [
             0.7777777777777778,
             "#fb9f3a"
            ],
            [
             0.8888888888888888,
             "#fdca26"
            ],
            [
             1,
             "#f0f921"
            ]
           ],
           "sequentialminus": [
            [
             0,
             "#0d0887"
            ],
            [
             0.1111111111111111,
             "#46039f"
            ],
            [
             0.2222222222222222,
             "#7201a8"
            ],
            [
             0.3333333333333333,
             "#9c179e"
            ],
            [
             0.4444444444444444,
             "#bd3786"
            ],
            [
             0.5555555555555556,
             "#d8576b"
            ],
            [
             0.6666666666666666,
             "#ed7953"
            ],
            [
             0.7777777777777778,
             "#fb9f3a"
            ],
            [
             0.8888888888888888,
             "#fdca26"
            ],
            [
             1,
             "#f0f921"
            ]
           ]
          },
          "colorway": [
           "#636efa",
           "#EF553B",
           "#00cc96",
           "#ab63fa",
           "#FFA15A",
           "#19d3f3",
           "#FF6692",
           "#B6E880",
           "#FF97FF",
           "#FECB52"
          ],
          "font": {
           "color": "#2a3f5f"
          },
          "geo": {
           "bgcolor": "white",
           "lakecolor": "white",
           "landcolor": "#E5ECF6",
           "showlakes": true,
           "showland": true,
           "subunitcolor": "white"
          },
          "hoverlabel": {
           "align": "left"
          },
          "hovermode": "closest",
          "mapbox": {
           "style": "light"
          },
          "paper_bgcolor": "white",
          "plot_bgcolor": "#E5ECF6",
          "polar": {
           "angularaxis": {
            "gridcolor": "white",
            "linecolor": "white",
            "ticks": ""
           },
           "bgcolor": "#E5ECF6",
           "radialaxis": {
            "gridcolor": "white",
            "linecolor": "white",
            "ticks": ""
           }
          },
          "scene": {
           "xaxis": {
            "backgroundcolor": "#E5ECF6",
            "gridcolor": "white",
            "gridwidth": 2,
            "linecolor": "white",
            "showbackground": true,
            "ticks": "",
            "zerolinecolor": "white"
           },
           "yaxis": {
            "backgroundcolor": "#E5ECF6",
            "gridcolor": "white",
            "gridwidth": 2,
            "linecolor": "white",
            "showbackground": true,
            "ticks": "",
            "zerolinecolor": "white"
           },
           "zaxis": {
            "backgroundcolor": "#E5ECF6",
            "gridcolor": "white",
            "gridwidth": 2,
            "linecolor": "white",
            "showbackground": true,
            "ticks": "",
            "zerolinecolor": "white"
           }
          },
          "shapedefaults": {
           "line": {
            "color": "#2a3f5f"
           }
          },
          "ternary": {
           "aaxis": {
            "gridcolor": "white",
            "linecolor": "white",
            "ticks": ""
           },
           "baxis": {
            "gridcolor": "white",
            "linecolor": "white",
            "ticks": ""
           },
           "bgcolor": "#E5ECF6",
           "caxis": {
            "gridcolor": "white",
            "linecolor": "white",
            "ticks": ""
           }
          },
          "title": {
           "x": 0.05
          },
          "xaxis": {
           "automargin": true,
           "gridcolor": "white",
           "linecolor": "white",
           "ticks": "",
           "title": {
            "standoff": 15
           },
           "zerolinecolor": "white",
           "zerolinewidth": 2
          },
          "yaxis": {
           "automargin": true,
           "gridcolor": "white",
           "linecolor": "white",
           "ticks": "",
           "title": {
            "standoff": 15
           },
           "zerolinecolor": "white",
           "zerolinewidth": 2
          }
         }
        },
        "title": {
         "text": "Data Quality: Column Pair Trends (Average Score=0.82)"
        },
        "width": 900,
        "xaxis": {
         "anchor": "y",
         "domain": [
          0.26,
          0.74
         ],
         "tickangle": 45
        },
        "xaxis2": {
         "anchor": "y2",
         "domain": [
          0,
          0.45
         ],
         "tickangle": 45
        },
        "xaxis3": {
         "anchor": "y3",
         "domain": [
          0.55,
          1
         ],
         "matches": "x2",
         "tickangle": 45
        },
        "yaxis": {
         "anchor": "x",
         "autorange": "reversed",
         "domain": [
          0.625,
          1
         ]
        },
        "yaxis2": {
         "anchor": "x2",
         "autorange": "reversed",
         "domain": [
          0,
          0.375
         ]
        },
        "yaxis3": {
         "anchor": "x3",
         "autorange": "reversed",
         "domain": [
          0,
          0.375
         ],
         "matches": "y2",
         "visible": false
        }
       }
      }
     },
     "metadata": {},
     "output_type": "display_data"
    }
   ],
   "source": [
    "# plot Column Pair Trends -> referred to the \"Fidelity Row\" in the paper\n",
    "fig = quality_report.get_visualization(property_name='Column Pair Trends')\n",
    "fig\n",
    "    \n"
   ]
  }
 ],
 "metadata": {
  "kernelspec": {
   "display_name": ".venv",
   "language": "python",
   "name": "python3"
  },
  "language_info": {
   "codemirror_mode": {
    "name": "ipython",
    "version": 3
   },
   "file_extension": ".py",
   "mimetype": "text/x-python",
   "name": "python",
   "nbconvert_exporter": "python",
   "pygments_lexer": "ipython3",
   "version": "3.11.6"
  },
  "orig_nbformat": 4
 },
 "nbformat": 4,
 "nbformat_minor": 2
}
