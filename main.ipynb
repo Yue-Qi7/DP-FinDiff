{
 "cells": [
  {
   "cell_type": "markdown",
   "metadata": {},
   "source": [
    "This Jupyter Notebook is developed for demonstration purposes to showcase the implementation of the FinDiff model."
   ]
  },
  {
   "cell_type": "code",
   "execution_count": 1,
   "metadata": {},
   "outputs": [],
   "source": [
    "# main libraries for data processing/plotting\n",
    "import pandas as pd\n",
    "import numpy as np\n",
    "from tqdm import tqdm\n",
    "from sklearn.preprocessing import LabelEncoder, QuantileTransformer\n",
    "import seaborn as sns\n",
    "\n",
    "# import torch functionality\n",
    "import torch\n",
    "from torch import nn\n",
    "from torch.utils.data import DataLoader, TensorDataset\n",
    "import torch.optim as optim\n",
    "from torch.optim.lr_scheduler import CosineAnnealingLR\n",
    "\n",
    "# import synthetic data vault library\n",
    "from sdv.metadata import SingleTableMetadata\n",
    "import sdv.evaluation.single_table as sdv_st\n",
    "\n",
    "#  import local developed models\n",
    "from MLPSynthesizer import MLPSynthesizer\n",
    "from BaseDiffuser import BaseDiffuser\n",
    "from findiff_modules import train_epoch, decode_sample, generate_samples\n",
    "\n",
    "%load_ext autoreload\n",
    "%autoreload 2\n"
   ]
  },
  {
   "cell_type": "markdown",
   "metadata": {},
   "source": [
    "Set params and seed"
   ]
  },
  {
   "cell_type": "code",
   "execution_count": 2,
   "metadata": {},
   "outputs": [],
   "source": [
    "# define experiment parameters\n",
    "exp_params = dict(\n",
    "\n",
    "    seed = 111,\n",
    "    batch_size = 512,\n",
    "    epochs = 3000,\n",
    "    n_cat_emb = 2, # size of the categorical embeddings (2 means each attribute will be 2-dimensional)\n",
    "    learning_rate = 1e-4,\n",
    "\n",
    "    mlp_layers = [1024, 1024, 1024, 1024], # total neurons at each hidden feed-forward layer\n",
    "    activation = 'lrelu',\n",
    "\n",
    "    diffusion_steps = 500,\n",
    "    diffusion_beta_start = 1e-4,\n",
    "    diffusion_beta_end = 0.02,\n",
    "    scheduler = 'linear'\n",
    ")\n",
    "    \n",
    "# set seed\n",
    "np.random.seed(exp_params['seed'])  # set numpy seed\n",
    "torch.manual_seed(exp_params['seed'])  # set pytorch seed CPU\n",
    "torch.cuda.manual_seed(exp_params['seed'])  # set pytorch seed GPU\n"
   ]
  },
  {
   "cell_type": "markdown",
   "metadata": {},
   "source": [
    "# Load and preprecess dataset. \n",
    "For showcasing UCI Credit Card dataset was used, available at https://archive.ics.uci.edu/ml/datasets/default+of+credit+card+clients"
   ]
  },
  {
   "cell_type": "code",
   "execution_count": 3,
   "metadata": {},
   "outputs": [],
   "source": [
    "# read csv file\n",
    "train_raw = pd.read_csv(r'data/UCI_Credit_Card.csv')\n",
    "\n",
    "# remove underscore in column names for correct inverse decoding\n",
    "train_raw.columns = [col.replace('_', '') for col in train_raw.columns]\n",
    "\n",
    "# identify numeric and categorical attributes\n",
    "cat_attrs = ['SEX', 'EDUCATION', 'MARRIAGE', 'AGE', 'PAY0', 'PAY2', 'PAY3', 'PAY4', 'PAY5', 'PAY6']\n",
    "num_attrs = ['LIMITBAL', 'BILLAMT1', 'BILLAMT2', 'BILLAMT3', 'BILLAMT4', 'BILLAMT5', 'BILLAMT6',\n",
    "             'PAYAMT1', 'PAYAMT2', 'PAYAMT3', 'PAYAMT4', 'PAYAMT5', 'PAYAMT6']\n",
    "\n",
    "# add col name to every entry to make them distinguishable for embedding\n",
    "for cat_attr in cat_attrs:\n",
    "    train_raw[cat_attr] = cat_attr + '_' + train_raw[cat_attr].astype('str')\n",
    "\n",
    "# extract label\n",
    "label_name = 'default.payment.next.month'\n",
    "label = train_raw[label_name]\n"
   ]
  },
  {
   "cell_type": "code",
   "execution_count": 4,
   "metadata": {},
   "outputs": [
    {
     "name": "stdout",
     "output_type": "stream",
     "text": [
      "Processed data: Train shape: (30000, 23)\n"
     ]
    }
   ],
   "source": [
    "# take cat and num subsets\n",
    "train = train_raw[[*cat_attrs, *num_attrs]]\n",
    "\n",
    "# update categorical attributes\n",
    "train[cat_attrs] = train[cat_attrs].astype(str)\n",
    "\n",
    "print('Processed data: Train shape: {}'.format(train.shape))"
   ]
  },
  {
   "cell_type": "code",
   "execution_count": 5,
   "metadata": {},
   "outputs": [
    {
     "name": "stdout",
     "output_type": "stream",
     "text": [
      "Encoded categorical data: Train shape: torch.Size([30000, 10])\n",
      "Encoded numerical data: Train shape: torch.Size([30000, 13])\n"
     ]
    }
   ],
   "source": [
    "### transform numeric attributes\n",
    "num_scaler = QuantileTransformer(output_distribution='normal', random_state=exp_params['seed'])\n",
    "num_scaler.fit(train[num_attrs])\n",
    "train_num_scaled = num_scaler.transform(train[num_attrs])\n",
    "\n",
    "### transform categorical attributes\n",
    "# get unique values\n",
    "vocabulary_classes = np.unique(train[cat_attrs])\n",
    "# fit label encoder\n",
    "label_encoder = LabelEncoder().fit(vocabulary_classes)\n",
    "# transform dataset\n",
    "train_cat_scaled = train[cat_attrs].apply(label_encoder.transform)\n",
    "# collect unique categories of each attribute\n",
    "vocab_per_attr = {cat_attr: set(train_cat_scaled[cat_attr]) for cat_attr in cat_attrs}\n",
    "\n",
    "# init torch tensors\n",
    "train_num_torch = torch.FloatTensor(train_num_scaled)\n",
    "train_cat_torch = torch.LongTensor(train_cat_scaled.values)\n",
    "label_torch = torch.LongTensor(label)\n",
    "\n",
    "print('Encoded categorical data: Train shape: {}'.format(train_cat_torch.shape))\n",
    "print('Encoded numerical data: Train shape: {}'.format(train_num_torch.shape))"
   ]
  },
  {
   "cell_type": "code",
   "execution_count": 6,
   "metadata": {},
   "outputs": [],
   "source": [
    "# prepare DataLoader\n",
    "train_set = TensorDataset(\n",
    "    train_cat_torch,\n",
    "    train_num_torch,\n",
    "    label_torch\n",
    ")\n",
    "\n",
    "dataloader = DataLoader(\n",
    "    dataset=train_set,\n",
    "    batch_size=exp_params['batch_size'],\n",
    "    num_workers=0, \n",
    "    shuffle=True\n",
    ")\n"
   ]
  },
  {
   "cell_type": "markdown",
   "metadata": {},
   "source": [
    "# Initialize and train the model"
   ]
  },
  {
   "cell_type": "code",
   "execution_count": 7,
   "metadata": {},
   "outputs": [],
   "source": [
    "n_cat_tokens = len(vocabulary_classes)\n",
    "cat_dim = exp_params['n_cat_emb'] * len(cat_attrs)\n",
    "encoded_dim = cat_dim + len(num_attrs)\n",
    "\n",
    "# initialize the synthesizer\n",
    "synthesizer = MLPSynthesizer(\n",
    "    d_in=encoded_dim,\n",
    "    hidden_layers=exp_params['mlp_layers'],\n",
    "    activation=exp_params['activation'],\n",
    "    n_cat_tokens=n_cat_tokens,\n",
    "    n_cat_emb=exp_params['n_cat_emb'],\n",
    "    n_classes=pd.Series(label).nunique(),\n",
    "    embedding_learned=False\n",
    ")\n",
    "\n",
    "# initialize the diffuser\n",
    "diffuser = BaseDiffuser(\n",
    "    total_steps=exp_params['diffusion_steps'],\n",
    "    beta_start=exp_params['diffusion_beta_start'],\n",
    "    beta_end=exp_params['diffusion_beta_end'],\n",
    "    scheduler=exp_params['scheduler']\n",
    ")\n"
   ]
  },
  {
   "cell_type": "code",
   "execution_count": 8,
   "metadata": {},
   "outputs": [],
   "source": [
    "# init optimizer, scheduler and loss function\n",
    "parameters = filter(lambda p: p.requires_grad, synthesizer.parameters())\n",
    "optimizer = optim.Adam(parameters, lr=exp_params['learning_rate'])\n",
    "scheduler = CosineAnnealingLR(optimizer, T_max=exp_params['epochs'], verbose=False)\n",
    "loss_fnc = nn.MSELoss()"
   ]
  },
  {
   "cell_type": "code",
   "execution_count": 9,
   "metadata": {},
   "outputs": [
    {
     "name": "stderr",
     "output_type": "stream",
     "text": [
      "INFO: FinDiff training | losses: 0.109: 100%|██████████| 3000/3000 [1:28:15<00:00,  1.77s/it]\n"
     ]
    }
   ],
   "source": [
    "# list for collection of training losses\n",
    "losses_all = []\n",
    "\n",
    "# iterate over distinct training epochs\n",
    "desc_info = f\"INFO: FinDiff training\"\n",
    "pbar = tqdm(iterable=range(exp_params['epochs']), position=0, leave=True)\n",
    "for epoch in pbar:\n",
    "\n",
    "    base_params = {'epoch': epoch, 'seed': exp_params['seed'], 'mlp_layers': exp_params['mlp_layers']}\n",
    "\n",
    "    # train single epoch\n",
    "    train_losses = train_epoch(\n",
    "        dataloader=dataloader,\n",
    "        synthesizer=synthesizer,\n",
    "        diffuser=diffuser,\n",
    "        loss_fnc=loss_fnc,\n",
    "        optimizer=optimizer,\n",
    "        scheduler=scheduler\n",
    "    )\n",
    "    losses_all.append({**base_params, **train_losses})\n",
    "\n",
    "    # add description to the progress bar\n",
    "    desc_losses = ' | '.join([f'{name}: {loss:.3f}' for name, loss in train_losses.items()])\n",
    "    pbar.set_description(desc_info + ' | ' + desc_losses)\n"
   ]
  },
  {
   "cell_type": "markdown",
   "metadata": {},
   "source": [
    "# Sampling"
   ]
  },
  {
   "cell_type": "code",
   "execution_count": null,
   "metadata": {},
   "outputs": [],
   "source": [
    "# generate new samples\n",
    "generated_samples = generate_samples(\n",
    "    synthesizer=synthesizer,\n",
    "    diffuser=diffuser,\n",
    "    encoded_dim=encoded_dim,\n",
    "    last_diff_step=exp_params['diffusion_steps'],\n",
    "    label=label_torch\n",
    ")\n",
    "# decode generated samples, i.e. numeric upscaling + categorical inverse encoding\n",
    "generated_samples_df = decode_sample(\n",
    "    sample=generated_samples,\n",
    "    cat_dim=cat_dim,\n",
    "    n_cat_emb=exp_params['n_cat_emb'],\n",
    "    num_attrs=num_attrs,\n",
    "    cat_attrs=cat_attrs,\n",
    "    num_scaler=num_scaler,\n",
    "    vocab_per_attr=vocab_per_attr,\n",
    "    label_encoder=label_encoder,\n",
    "    synthesizer=synthesizer\n",
    ")"
   ]
  },
  {
   "cell_type": "markdown",
   "metadata": {},
   "source": [
    "# Evaluate generated data"
   ]
  },
  {
   "cell_type": "code",
   "execution_count": 11,
   "metadata": {},
   "outputs": [
    {
     "name": "stdout",
     "output_type": "stream",
     "text": [
      "Generating report ...\n",
      "(1/2) Evaluating Column Shapes: : 100%|██████████| 23/23 [00:00<00:00, 51.02it/s]\n",
      "(2/2) Evaluating Column Pair Trends: : 100%|██████████| 253/253 [00:03<00:00, 65.11it/s] \n",
      "\n",
      "Overall Quality Score: 89.0%\n",
      "\n",
      "Properties:\n",
      "- Column Shapes: 96.34%\n",
      "- Column Pair Trends: 81.66%\n"
     ]
    }
   ],
   "source": [
    "# build a metadata for evaluation (from SDV)\n",
    "metadata = SingleTableMetadata()\n",
    "metadata.detect_from_dataframe(data=train)\n",
    "\n",
    "# generate quality report\n",
    "quality_report = sdv_st.evaluate_quality(\n",
    "    real_data=train,\n",
    "    synthetic_data=generated_samples_df,\n",
    "    metadata=metadata\n",
    ")"
   ]
  },
  {
   "cell_type": "code",
   "execution_count": 21,
   "metadata": {},
   "outputs": [
    {
     "data": {
      "image/svg+xml": [
       "<svg class=\"main-svg\" xmlns=\"http://www.w3.org/2000/svg\" xmlns:xlink=\"http://www.w3.org/1999/xlink\" width=\"700\" height=\"500\" style=\"\" viewBox=\"0 0 700 500\"><rect x=\"0\" y=\"0\" width=\"700\" height=\"500\" style=\"fill: rgb(255, 255, 255); fill-opacity: 1;\"/><defs id=\"defs-c86df5\"><g class=\"clips\"><clipPath id=\"clipc86df5xyplot\" class=\"plotclip\"><rect width=\"415\" height=\"200\"/></clipPath><clipPath class=\"axesclip\" id=\"clipc86df5x\"><rect x=\"80\" y=\"0\" width=\"415\" height=\"500\"/></clipPath><clipPath class=\"axesclip\" id=\"clipc86df5y\"><rect x=\"0\" y=\"150\" width=\"700\" height=\"200\"/></clipPath><clipPath class=\"axesclip\" id=\"clipc86df5xy\"><rect x=\"80\" y=\"150\" width=\"415\" height=\"200\"/></clipPath></g><g class=\"gradients\"/><g class=\"patterns\"><pattern id=\"pc86df5-legend-9f189d\" width=\"14.142135623730951px\" height=\"14.142135623730951px\" patternUnits=\"userSpaceOnUse\" patternTransform=\"scale(0.8)\"><rect width=\"14.142135623730951px\" height=\"14.142135623730951px\" fill=\"rgb(0, 0, 54)\" fill-opacity=\"1\"/><path d=\"M-3.5355339059327378,3.5355339059327378l7.0710678118654755,-7.0710678118654755M0,14.142135623730951L14.142135623730951,0M10.606601717798213,17.67766952966369l7.0710678118654755,-7.0710678118654755\" opacity=\"0.5\" stroke=\"rgb(255, 255, 255)\" stroke-width=\"2px\"/></pattern><pattern id=\"pc86df5-9f189d\" width=\"14.142135623730951px\" height=\"14.142135623730951px\" patternUnits=\"userSpaceOnUse\" patternTransform=\"\"><rect width=\"14.142135623730951px\" height=\"14.142135623730951px\" fill=\"rgb(0, 0, 54)\" fill-opacity=\"1\"/><path d=\"M-3.5355339059327378,3.5355339059327378l7.0710678118654755,-7.0710678118654755M0,14.142135623730951L14.142135623730951,0M10.606601717798213,17.67766952966369l7.0710678118654755,-7.0710678118654755\" opacity=\"0.5\" stroke=\"rgb(255, 255, 255)\" stroke-width=\"2px\"/></pattern></g></defs><g class=\"bglayer\"><rect class=\"bg\" x=\"80\" y=\"150\" width=\"415\" height=\"200\" style=\"fill: rgb(245, 245, 248); fill-opacity: 1; stroke-width: 0;\"/></g><g class=\"layer-below\"><g class=\"imagelayer\"/><g class=\"shapelayer\"/></g><g class=\"cartesianlayer\"><g class=\"subplot xy\"><g class=\"layer-subplot\"><g class=\"shapelayer\"/><g class=\"imagelayer\"/></g><g class=\"minor-gridlayer\"><g class=\"x\"/><g class=\"y\"/></g><g class=\"gridlayer\"><g class=\"x\"/><g class=\"y\"><path class=\"ygrid crisp\" transform=\"translate(0,310)\" d=\"M80,0h415\" style=\"stroke: rgb(255, 255, 255); stroke-opacity: 1; stroke-width: 1px;\"/><path class=\"ygrid crisp\" transform=\"translate(0,270)\" d=\"M80,0h415\" style=\"stroke: rgb(255, 255, 255); stroke-opacity: 1; stroke-width: 1px;\"/><path class=\"ygrid crisp\" transform=\"translate(0,230)\" d=\"M80,0h415\" style=\"stroke: rgb(255, 255, 255); stroke-opacity: 1; stroke-width: 1px;\"/><path class=\"ygrid crisp\" transform=\"translate(0,190)\" d=\"M80,0h415\" style=\"stroke: rgb(255, 255, 255); stroke-opacity: 1; stroke-width: 1px;\"/></g></g><g class=\"zerolinelayer\"><path class=\"yzl zl crisp\" transform=\"translate(0,350)\" d=\"M80,0h415\" style=\"stroke: rgb(255, 255, 255); stroke-opacity: 1; stroke-width: 2px;\"/></g><path class=\"xlines-below\"/><path class=\"ylines-below\"/><g class=\"overlines-below\"/><g class=\"xaxislayer-below\"/><g class=\"yaxislayer-below\"/><g class=\"overaxes-below\"/><g class=\"plot\" transform=\"translate(80,150)\" clip-path=\"url(#clipc86df5xyplot)\"><g class=\"barlayer mlayer\"><g class=\"trace bars\" style=\"opacity: 1;\"><g class=\"points\"><g class=\"point\"><path d=\"M398.76,200V0.17H413.2V200Z\" style=\"vector-effect: none; opacity: 1; stroke-width: 0.5px; fill: rgb(3, 175, 241); fill-opacity: 1; stroke: rgb(229, 236, 246); stroke-opacity: 1;\"/></g><g class=\"point\"><path d=\"M272.46,200V3.47H286.89V200Z\" style=\"vector-effect: none; opacity: 1; stroke-width: 0.5px; fill: rgb(3, 175, 241); fill-opacity: 1; stroke: rgb(229, 236, 246); stroke-opacity: 1;\"/></g><g class=\"point\"><path d=\"M362.67,200V2.29H377.11V200Z\" style=\"vector-effect: none; opacity: 1; stroke-width: 0.5px; fill: rgb(3, 175, 241); fill-opacity: 1; stroke: rgb(229, 236, 246); stroke-opacity: 1;\"/></g><g class=\"point\"><path d=\"M1.8,200V70.01H16.24V200Z\" style=\"vector-effect: none; opacity: 1; stroke-width: 0.5px; fill: rgb(3, 175, 241); fill-opacity: 1; stroke: rgb(229, 236, 246); stroke-opacity: 1;\"/></g><g class=\"point\"><path d=\"M164.2,200V4.09H178.63V200Z\" style=\"vector-effect: none; opacity: 1; stroke-width: 0.5px; fill: rgb(3, 175, 241); fill-opacity: 1; stroke: rgb(229, 236, 246); stroke-opacity: 1;\"/></g><g class=\"point\"><path d=\"M326.59,200V2.89H341.02V200Z\" style=\"vector-effect: none; opacity: 1; stroke-width: 0.5px; fill: rgb(3, 175, 241); fill-opacity: 1; stroke: rgb(229, 236, 246); stroke-opacity: 1;\"/></g><g class=\"point\"><path d=\"M37.89,200V7.65H52.33V200Z\" style=\"vector-effect: none; opacity: 1; stroke-width: 0.5px; fill: rgb(3, 175, 241); fill-opacity: 1; stroke: rgb(229, 236, 246); stroke-opacity: 1;\"/></g><g class=\"point\"><path d=\"M380.72,200V1.94H395.15V200Z\" style=\"vector-effect: none; opacity: 1; stroke-width: 0.5px; fill: rgb(3, 175, 241); fill-opacity: 1; stroke: rgb(229, 236, 246); stroke-opacity: 1;\"/></g><g class=\"point\"><path d=\"M19.85,200V18.89H34.28V200Z\" style=\"vector-effect: none; opacity: 1; stroke-width: 0.5px; fill: rgb(3, 175, 241); fill-opacity: 1; stroke: rgb(229, 236, 246); stroke-opacity: 1;\"/></g><g class=\"point\"><path d=\"M146.15,200V4.13H160.59V200Z\" style=\"vector-effect: none; opacity: 1; stroke-width: 0.5px; fill: rgb(3, 175, 241); fill-opacity: 1; stroke: rgb(229, 236, 246); stroke-opacity: 1;\"/></g></g></g><g class=\"trace bars\" style=\"opacity: 1;\"><g class=\"points\"><g class=\"point\"><path d=\"M182.24,200V4.08H196.67V200Z\" class=\"pattern_filled\" style=\"vector-effect: none; opacity: 1; stroke-width: 0.5px; fill: url('#pc86df5-9f189d'); stroke: rgb(229, 236, 246); stroke-opacity: 1;\"/></g><g class=\"point\"><path d=\"M344.63,200V2.81H359.07V200Z\" class=\"pattern_filled\" style=\"vector-effect: none; opacity: 1; stroke-width: 0.5px; fill: url('#pc86df5-9f189d'); stroke: rgb(229, 236, 246); stroke-opacity: 1;\"/></g><g class=\"point\"><path d=\"M308.54,200V3.04H322.98V200Z\" class=\"pattern_filled\" style=\"vector-effect: none; opacity: 1; stroke-width: 0.5px; fill: url('#pc86df5-9f189d'); stroke: rgb(229, 236, 246); stroke-opacity: 1;\"/></g><g class=\"point\"><path d=\"M254.41,200V3.54H268.85V200Z\" class=\"pattern_filled\" style=\"vector-effect: none; opacity: 1; stroke-width: 0.5px; fill: url('#pc86df5-9f189d'); stroke: rgb(229, 236, 246); stroke-opacity: 1;\"/></g><g class=\"point\"><path d=\"M290.5,200V3.41H304.93V200Z\" class=\"pattern_filled\" style=\"vector-effect: none; opacity: 1; stroke-width: 0.5px; fill: url('#pc86df5-9f189d'); stroke: rgb(229, 236, 246); stroke-opacity: 1;\"/></g><g class=\"point\"><path d=\"M236.37,200V3.62H250.8V200Z\" class=\"pattern_filled\" style=\"vector-effect: none; opacity: 1; stroke-width: 0.5px; fill: url('#pc86df5-9f189d'); stroke: rgb(229, 236, 246); stroke-opacity: 1;\"/></g><g class=\"point\"><path d=\"M218.33,200V3.8H232.76V200Z\" class=\"pattern_filled\" style=\"vector-effect: none; opacity: 1; stroke-width: 0.5px; fill: url('#pc86df5-9f189d'); stroke: rgb(229, 236, 246); stroke-opacity: 1;\"/></g><g class=\"point\"><path d=\"M73.98,200V5.19H88.41V200Z\" class=\"pattern_filled\" style=\"vector-effect: none; opacity: 1; stroke-width: 0.5px; fill: url('#pc86df5-9f189d'); stroke: rgb(229, 236, 246); stroke-opacity: 1;\"/></g><g class=\"point\"><path d=\"M55.93,200V5.37H70.37V200Z\" class=\"pattern_filled\" style=\"vector-effect: none; opacity: 1; stroke-width: 0.5px; fill: url('#pc86df5-9f189d'); stroke: rgb(229, 236, 246); stroke-opacity: 1;\"/></g><g class=\"point\"><path d=\"M92.02,200V5.13H106.46V200Z\" class=\"pattern_filled\" style=\"vector-effect: none; opacity: 1; stroke-width: 0.5px; fill: url('#pc86df5-9f189d'); stroke: rgb(229, 236, 246); stroke-opacity: 1;\"/></g><g class=\"point\"><path d=\"M128.11,200V4.22H142.54V200Z\" class=\"pattern_filled\" style=\"vector-effect: none; opacity: 1; stroke-width: 0.5px; fill: url('#pc86df5-9f189d'); stroke: rgb(229, 236, 246); stroke-opacity: 1;\"/></g><g class=\"point\"><path d=\"M110.07,200V4.66H124.5V200Z\" class=\"pattern_filled\" style=\"vector-effect: none; opacity: 1; stroke-width: 0.5px; fill: url('#pc86df5-9f189d'); stroke: rgb(229, 236, 246); stroke-opacity: 1;\"/></g><g class=\"point\"><path d=\"M200.28,200V3.95H214.72V200Z\" class=\"pattern_filled\" style=\"vector-effect: none; opacity: 1; stroke-width: 0.5px; fill: url('#pc86df5-9f189d'); stroke: rgb(229, 236, 246); stroke-opacity: 1;\"/></g></g></g></g></g><g class=\"overplot\"/><path class=\"xlines-above crisp\" d=\"M0,0\" style=\"fill: none;\"/><path class=\"ylines-above crisp\" d=\"M0,0\" style=\"fill: none;\"/><g class=\"overlines-above\"/><g class=\"xaxislayer-above\"><g class=\"xtick\"><text text-anchor=\"start\" x=\"0\" y=\"369\" transform=\"translate(89.02,0) rotate(90,0,360)\" style=\"font-family: 'Open Sans', verdana, arial, sans-serif; font-size: 18px; fill: rgb(42, 63, 95); fill-opacity: 1; white-space: pre; opacity: 1;\">AGE</text></g><g class=\"xtick\"><text text-anchor=\"start\" x=\"0\" y=\"369\" transform=\"translate(125.11,0) rotate(90,0,360)\" style=\"font-family: 'Open Sans', verdana, arial, sans-serif; font-size: 18px; fill: rgb(42, 63, 95); fill-opacity: 1; white-space: pre; opacity: 1;\">PAY3</text></g><g class=\"xtick\"><text text-anchor=\"start\" x=\"0\" y=\"369\" transform=\"translate(161.2,0) rotate(90,0,360)\" style=\"font-family: 'Open Sans', verdana, arial, sans-serif; font-size: 18px; fill: rgb(42, 63, 95); fill-opacity: 1; white-space: pre; opacity: 1;\">PAYAMT1</text></g><g class=\"xtick\"><text text-anchor=\"start\" x=\"0\" y=\"369\" transform=\"translate(197.28,0) rotate(90,0,360)\" style=\"font-family: 'Open Sans', verdana, arial, sans-serif; font-size: 18px; fill: rgb(42, 63, 95); fill-opacity: 1; white-space: pre; opacity: 1;\">PAYAMT5</text></g><g class=\"xtick\"><text text-anchor=\"start\" x=\"0\" y=\"369\" transform=\"translate(233.37,0) rotate(90,0,360)\" style=\"font-family: 'Open Sans', verdana, arial, sans-serif; font-size: 18px; fill: rgb(42, 63, 95); fill-opacity: 1; white-space: pre; opacity: 1;\">PAY6</text></g><g class=\"xtick\"><text text-anchor=\"start\" x=\"0\" y=\"369\" transform=\"translate(269.46000000000004,0) rotate(90,0,360)\" style=\"font-family: 'Open Sans', verdana, arial, sans-serif; font-size: 18px; fill: rgb(42, 63, 95); fill-opacity: 1; white-space: pre; opacity: 1;\">LIMITBAL</text></g><g class=\"xtick\"><text text-anchor=\"start\" x=\"0\" y=\"369\" transform=\"translate(305.53999999999996,0) rotate(90,0,360)\" style=\"font-family: 'Open Sans', verdana, arial, sans-serif; font-size: 18px; fill: rgb(42, 63, 95); fill-opacity: 1; white-space: pre; opacity: 1;\">BILLAMT6</text></g><g class=\"xtick\"><text text-anchor=\"start\" x=\"0\" y=\"369\" transform=\"translate(341.63,0) rotate(90,0,360)\" style=\"font-family: 'Open Sans', verdana, arial, sans-serif; font-size: 18px; fill: rgb(42, 63, 95); fill-opacity: 1; white-space: pre; opacity: 1;\">BILLAMT3</text></g><g class=\"xtick\"><text text-anchor=\"start\" x=\"0\" y=\"369\" transform=\"translate(377.72,0) rotate(90,0,360)\" style=\"font-family: 'Open Sans', verdana, arial, sans-serif; font-size: 18px; fill: rgb(42, 63, 95); fill-opacity: 1; white-space: pre; opacity: 1;\">BILLAMT4</text></g><g class=\"xtick\"><text text-anchor=\"start\" x=\"0\" y=\"369\" transform=\"translate(413.8,0) rotate(90,0,360)\" style=\"font-family: 'Open Sans', verdana, arial, sans-serif; font-size: 18px; fill: rgb(42, 63, 95); fill-opacity: 1; white-space: pre; opacity: 1;\">PAY2</text></g><g class=\"xtick\"><text text-anchor=\"start\" x=\"0\" y=\"369\" transform=\"translate(449.89,0) rotate(90,0,360)\" style=\"font-family: 'Open Sans', verdana, arial, sans-serif; font-size: 18px; fill: rgb(42, 63, 95); fill-opacity: 1; white-space: pre; opacity: 1;\">MARRIAGE</text></g><g class=\"xtick\"><text text-anchor=\"start\" x=\"0\" y=\"369\" transform=\"translate(485.98,0) rotate(90,0,360)\" style=\"font-family: 'Open Sans', verdana, arial, sans-serif; font-size: 18px; fill: rgb(42, 63, 95); fill-opacity: 1; white-space: pre; opacity: 1;\">SEX</text></g></g><g class=\"yaxislayer-above\"><g class=\"ytick\"><text text-anchor=\"end\" x=\"79\" y=\"6.3\" transform=\"translate(0,350)\" style=\"font-family: 'Open Sans', verdana, arial, sans-serif; font-size: 18px; fill: rgb(42, 63, 95); fill-opacity: 1; white-space: pre; opacity: 1;\">0</text></g><g class=\"ytick\"><text text-anchor=\"end\" x=\"79\" y=\"6.3\" style=\"font-family: 'Open Sans', verdana, arial, sans-serif; font-size: 18px; fill: rgb(42, 63, 95); fill-opacity: 1; white-space: pre; opacity: 1;\" transform=\"translate(0,310)\">0.2</text></g><g class=\"ytick\"><text text-anchor=\"end\" x=\"79\" y=\"6.3\" style=\"font-family: 'Open Sans', verdana, arial, sans-serif; font-size: 18px; fill: rgb(42, 63, 95); fill-opacity: 1; white-space: pre; opacity: 1;\" transform=\"translate(0,270)\">0.4</text></g><g class=\"ytick\"><text text-anchor=\"end\" x=\"79\" y=\"6.3\" style=\"font-family: 'Open Sans', verdana, arial, sans-serif; font-size: 18px; fill: rgb(42, 63, 95); fill-opacity: 1; white-space: pre; opacity: 1;\" transform=\"translate(0,230)\">0.6</text></g><g class=\"ytick\"><text text-anchor=\"end\" x=\"79\" y=\"6.3\" style=\"font-family: 'Open Sans', verdana, arial, sans-serif; font-size: 18px; fill: rgb(42, 63, 95); fill-opacity: 1; white-space: pre; opacity: 1;\" transform=\"translate(0,190)\">0.8</text></g><g class=\"ytick\"><text text-anchor=\"end\" x=\"79\" y=\"6.3\" style=\"font-family: 'Open Sans', verdana, arial, sans-serif; font-size: 18px; fill: rgb(42, 63, 95); fill-opacity: 1; white-space: pre; opacity: 1;\" transform=\"translate(0,150)\">1</text></g></g><g class=\"overaxes-above\"/></g></g><g class=\"polarlayer\"/><g class=\"smithlayer\"/><g class=\"ternarylayer\"/><g class=\"geolayer\"/><g class=\"funnelarealayer\"/><g class=\"pielayer\"/><g class=\"iciclelayer\"/><g class=\"treemaplayer\"/><g class=\"sunburstlayer\"/><g class=\"glimages\"/><defs id=\"topdefs-c86df5\"><g class=\"clips\"/><clipPath id=\"legendc86df5\"><rect width=\"185\" height=\"92\" x=\"0\" y=\"0\"/></clipPath></defs><g class=\"layer-above\"><g class=\"imagelayer\"/><g class=\"shapelayer\"/></g><g class=\"infolayer\"><g class=\"legend\" pointer-events=\"all\" transform=\"translate(503.3,150)\"><rect class=\"bg\" shape-rendering=\"crispEdges\" width=\"185\" height=\"92\" x=\"0\" y=\"0\" style=\"stroke: rgb(68, 68, 68); stroke-opacity: 1; fill: rgb(255, 255, 255); fill-opacity: 1; stroke-width: 0px;\"/><g class=\"scrollbox\" transform=\"\" clip-path=\"url(#legendc86df5)\"><text class=\"legendtitletext\" text-anchor=\"start\" x=\"2\" y=\"28.6\" style=\"font-family: 'Open Sans', verdana, arial, sans-serif; font-size: 22px; fill: rgb(42, 63, 95); fill-opacity: 1; white-space: pre;\">Metric</text><g class=\"groups\" transform=\"\"><g class=\"traces\" transform=\"translate(0,46.800000000000004)\" style=\"opacity: 1;\"><text class=\"legendtext\" text-anchor=\"start\" x=\"40\" y=\"7.0200000000000005\" style=\"font-family: 'Open Sans', verdana, arial, sans-serif; font-size: 18px; fill: rgb(42, 63, 95); fill-opacity: 1; white-space: pre;\">TVComplement</text><g class=\"layers\" style=\"opacity: 1;\"><g class=\"legendfill\"/><g class=\"legendlines\"/><g class=\"legendsymbols\"><g class=\"legendpoints\"><path class=\"legendundefined\" d=\"M6,6H-6V-6H6Z\" transform=\"translate(20,0)\" style=\"stroke-width: 0.5px; fill: rgb(3, 175, 241); fill-opacity: 1; stroke: rgb(229, 236, 246); stroke-opacity: 1;\"/></g></g></g><rect class=\"legendtoggle\" x=\"0\" y=\"-13.200000000000001\" width=\"179.375\" height=\"26.400000000000002\" style=\"fill: rgb(0, 0, 0); fill-opacity: 0;\"/></g></g><g class=\"groups\" transform=\"\"><g class=\"traces\" transform=\"translate(0,73.2)\" style=\"opacity: 1;\"><text class=\"legendtext\" text-anchor=\"start\" x=\"40\" y=\"7.0200000000000005\" style=\"font-family: 'Open Sans', verdana, arial, sans-serif; font-size: 18px; fill: rgb(42, 63, 95); fill-opacity: 1; white-space: pre;\">KSComplement</text><g class=\"layers\" style=\"opacity: 1;\"><g class=\"legendfill\"/><g class=\"legendlines\"/><g class=\"legendsymbols\"><g class=\"legendpoints\"><path class=\"legendundefined pattern_filled\" d=\"M6,6H-6V-6H6Z\" transform=\"translate(20,0)\" style=\"stroke-width: 0.5px; fill: url('#pc86df5-legend-9f189d'); stroke: rgb(229, 236, 246); stroke-opacity: 1;\"/></g></g></g><rect class=\"legendtoggle\" x=\"0\" y=\"-13.200000000000001\" width=\"179.375\" height=\"26.400000000000002\" style=\"fill: rgb(0, 0, 0); fill-opacity: 0;\"/></g></g></g><rect class=\"scrollbar\" rx=\"20\" ry=\"3\" width=\"0\" height=\"0\" x=\"0\" y=\"0\" style=\"fill: rgb(128, 139, 164); fill-opacity: 1;\"/></g><g class=\"g-gtitle\"><text class=\"gtitle\" x=\"35\" y=\"75\" text-anchor=\"start\" dy=\"0em\" style=\"font-family: 'Open Sans', verdana, arial, sans-serif; font-size: 25px; fill: rgb(42, 63, 95); opacity: 1; font-weight: normal; white-space: pre;\">Data Quality: Column Shapes (Average Score=0.96)</text></g><g class=\"g-xtitle\"><text class=\"xtitle\" x=\"287.5\" y=\"487.634375\" text-anchor=\"middle\" style=\"font-family: 'Open Sans', verdana, arial, sans-serif; font-size: 22px; fill: rgb(42, 63, 95); opacity: 1; font-weight: normal; white-space: pre;\">Column</text></g><g class=\"g-ytitle\" transform=\"translate(2.337890625,0)\"><text class=\"ytitle\" transform=\"rotate(-90,19.6625,250)\" x=\"19.6625\" y=\"250\" text-anchor=\"middle\" style=\"font-family: 'Open Sans', verdana, arial, sans-serif; font-size: 22px; fill: rgb(42, 63, 95); opacity: 1; font-weight: normal; white-space: pre;\">Score</text></g></g></svg>"
      ]
     },
     "metadata": {},
     "output_type": "display_data"
    }
   ],
   "source": [
    "# plot Column Shapes -> referred to the \"Fidelity Column\" in the paper\n",
    "fig = quality_report.get_visualization(property_name='Column Shapes')\n",
    "fig.show(renderer=\"svg\")"
   ]
  },
  {
   "cell_type": "code",
   "execution_count": null,
   "metadata": {},
   "outputs": [],
   "source": [
    "# plot Column Pair Trends -> referred to the \"Fidelity Row\" in the paper\n",
    "fig = quality_report.get_visualization(property_name='Column Pair Trends')\n",
    "fig"
   ]
  }
 ],
 "metadata": {
  "kernelspec": {
   "display_name": ".venv",
   "language": "python",
   "name": "python3"
  },
  "language_info": {
   "codemirror_mode": {
    "name": "ipython",
    "version": 3
   },
   "file_extension": ".py",
   "mimetype": "text/x-python",
   "name": "python",
   "nbconvert_exporter": "python",
   "pygments_lexer": "ipython3",
   "version": "3.11.6"
  },
  "orig_nbformat": 4
 },
 "nbformat": 4,
 "nbformat_minor": 2
}
