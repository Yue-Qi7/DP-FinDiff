{
 "cells": [
  {
   "cell_type": "markdown",
   "metadata": {},
   "source": [
    "Import required libraries."
   ]
  },
  {
   "cell_type": "code",
   "execution_count": 75,
   "metadata": {},
   "outputs": [],
   "source": [
    "# import data science libraries\n",
    "import pandas as pd\n",
    "import numpy as np\n",
    "\n",
    "# import scikit-learn preprocessing functions\n",
    "from sklearn.preprocessing import LabelEncoder, QuantileTransformer\n",
    "\n",
    "# import pytorch libraries\n",
    "import torch\n",
    "from torch import nn\n",
    "from torch.utils.data import DataLoader, TensorDataset\n",
    "import torch.optim as optim\n",
    "from torch.optim.lr_scheduler import CosineAnnealingLR\n",
    "\n",
    "# import synthetic data vault libraries\n",
    "from sdv.metadata import SingleTableMetadata\n",
    "import sdv.evaluation.single_table as sdv_st\n",
    "\n",
    "# import findiff diffusion models\n",
    "from MLPSynthesizer import MLPSynthesizer\n",
    "from BaseDiffuser import BaseDiffuser\n",
    "from findiff_modules import train_epoch, decode_sample, generate_samples\n",
    "\n",
    "# import utility libraries\n",
    "from tqdm import tqdm\n",
    "import xlrd\n",
    "import requests\n",
    "from io import BytesIO\n",
    "from zipfile import ZipFile\n",
    "\n",
    "# import visualisation libraries\n",
    "import seaborn as sns"
   ]
  },
  {
   "cell_type": "markdown",
   "metadata": {},
   "source": [
    "Init and set experiment parameters. "
   ]
  },
  {
   "cell_type": "code",
   "execution_count": 76,
   "metadata": {},
   "outputs": [],
   "source": [
    "# set random seed\n",
    "seed = 1234\n",
    "\n",
    "# set dimension of categorical embeddings\n",
    "cat_emb_dim = 2\n",
    "\n",
    "# set number of neurons per layer\n",
    "mlp_layers = [1024, 1024, 1024, 1024]\n",
    "\n",
    "# set non-linear activation function\n",
    "activation = 'lrelu'\n",
    "\n",
    "# set number of diffusion steps\n",
    "diffusion_steps = 500\n",
    "\n",
    "# set diffusion start and end betas\n",
    "diffusion_beta_start = 1e-4\n",
    "diffusion_beta_end = 0.02\n",
    "\n",
    "# set diffusion scheduler\n",
    "scheduler = 'linear'\n",
    "\n",
    "# set number of training epochs\n",
    "epochs = 3000\n",
    "\n",
    "# set training batch size\n",
    "batch_size = 512\n",
    "\n",
    "# set training learning rate\n",
    "learning_rate = 1e-4"
   ]
  },
  {
   "cell_type": "markdown",
   "metadata": {},
   "source": [
    "Set random seed values."
   ]
  },
  {
   "cell_type": "code",
   "execution_count": 77,
   "metadata": {},
   "outputs": [],
   "source": [
    "# set numpy seed\n",
    "np.random.seed(seed)\n",
    "\n",
    "# set pytorch seed\n",
    "torch.manual_seed(seed)\n",
    "\n",
    "# set cuda seed\n",
    "torch.cuda.manual_seed(seed)"
   ]
  },
  {
   "cell_type": "markdown",
   "metadata": {},
   "source": [
    "## Load, pre-process, and init the UCU Credit Card dataset\n",
    "The dataset is available under https://archive.ics.uci.edu/ml/datasets/default+of+credit+card+clients."
   ]
  },
  {
   "cell_type": "code",
   "execution_count": 78,
   "metadata": {},
   "outputs": [],
   "source": [
    "# set data path\n",
    "data_url = 'https://archive.ics.uci.edu/static/public/350/default+of+credit+card+clients.zip'\n",
    "\n",
    "# download the file\n",
    "response = requests.get(data_url)\n",
    "\n",
    "# determine the zip file\n",
    "zip_file = ZipFile(BytesIO(response.content))\n",
    "\n",
    "# extract the zip file\n",
    "zip_file.extractall('data')\n",
    "\n",
    "# read the UCI credit card dataset\n",
    "train_raw = pd.read_excel('data/default of credit card clients.xls', skiprows=[0])"
   ]
  },
  {
   "cell_type": "markdown",
   "metadata": {},
   "source": [
    "Inspect the top 10 rows and attribute names of the dataset retreived."
   ]
  },
  {
   "cell_type": "code",
   "execution_count": 79,
   "metadata": {},
   "outputs": [
    {
     "data": {
      "text/html": [
       "<div>\n",
       "<style scoped>\n",
       "    .dataframe tbody tr th:only-of-type {\n",
       "        vertical-align: middle;\n",
       "    }\n",
       "\n",
       "    .dataframe tbody tr th {\n",
       "        vertical-align: top;\n",
       "    }\n",
       "\n",
       "    .dataframe thead th {\n",
       "        text-align: right;\n",
       "    }\n",
       "</style>\n",
       "<table border=\"1\" class=\"dataframe\">\n",
       "  <thead>\n",
       "    <tr style=\"text-align: right;\">\n",
       "      <th></th>\n",
       "      <th>ID</th>\n",
       "      <th>LIMIT_BAL</th>\n",
       "      <th>SEX</th>\n",
       "      <th>EDUCATION</th>\n",
       "      <th>MARRIAGE</th>\n",
       "      <th>AGE</th>\n",
       "      <th>PAY_0</th>\n",
       "      <th>PAY_2</th>\n",
       "      <th>PAY_3</th>\n",
       "      <th>PAY_4</th>\n",
       "      <th>...</th>\n",
       "      <th>BILL_AMT4</th>\n",
       "      <th>BILL_AMT5</th>\n",
       "      <th>BILL_AMT6</th>\n",
       "      <th>PAY_AMT1</th>\n",
       "      <th>PAY_AMT2</th>\n",
       "      <th>PAY_AMT3</th>\n",
       "      <th>PAY_AMT4</th>\n",
       "      <th>PAY_AMT5</th>\n",
       "      <th>PAY_AMT6</th>\n",
       "      <th>default payment next month</th>\n",
       "    </tr>\n",
       "  </thead>\n",
       "  <tbody>\n",
       "    <tr>\n",
       "      <th>0</th>\n",
       "      <td>1</td>\n",
       "      <td>20000</td>\n",
       "      <td>2</td>\n",
       "      <td>2</td>\n",
       "      <td>1</td>\n",
       "      <td>24</td>\n",
       "      <td>2</td>\n",
       "      <td>2</td>\n",
       "      <td>-1</td>\n",
       "      <td>-1</td>\n",
       "      <td>...</td>\n",
       "      <td>0</td>\n",
       "      <td>0</td>\n",
       "      <td>0</td>\n",
       "      <td>0</td>\n",
       "      <td>689</td>\n",
       "      <td>0</td>\n",
       "      <td>0</td>\n",
       "      <td>0</td>\n",
       "      <td>0</td>\n",
       "      <td>1</td>\n",
       "    </tr>\n",
       "    <tr>\n",
       "      <th>1</th>\n",
       "      <td>2</td>\n",
       "      <td>120000</td>\n",
       "      <td>2</td>\n",
       "      <td>2</td>\n",
       "      <td>2</td>\n",
       "      <td>26</td>\n",
       "      <td>-1</td>\n",
       "      <td>2</td>\n",
       "      <td>0</td>\n",
       "      <td>0</td>\n",
       "      <td>...</td>\n",
       "      <td>3272</td>\n",
       "      <td>3455</td>\n",
       "      <td>3261</td>\n",
       "      <td>0</td>\n",
       "      <td>1000</td>\n",
       "      <td>1000</td>\n",
       "      <td>1000</td>\n",
       "      <td>0</td>\n",
       "      <td>2000</td>\n",
       "      <td>1</td>\n",
       "    </tr>\n",
       "    <tr>\n",
       "      <th>2</th>\n",
       "      <td>3</td>\n",
       "      <td>90000</td>\n",
       "      <td>2</td>\n",
       "      <td>2</td>\n",
       "      <td>2</td>\n",
       "      <td>34</td>\n",
       "      <td>0</td>\n",
       "      <td>0</td>\n",
       "      <td>0</td>\n",
       "      <td>0</td>\n",
       "      <td>...</td>\n",
       "      <td>14331</td>\n",
       "      <td>14948</td>\n",
       "      <td>15549</td>\n",
       "      <td>1518</td>\n",
       "      <td>1500</td>\n",
       "      <td>1000</td>\n",
       "      <td>1000</td>\n",
       "      <td>1000</td>\n",
       "      <td>5000</td>\n",
       "      <td>0</td>\n",
       "    </tr>\n",
       "    <tr>\n",
       "      <th>3</th>\n",
       "      <td>4</td>\n",
       "      <td>50000</td>\n",
       "      <td>2</td>\n",
       "      <td>2</td>\n",
       "      <td>1</td>\n",
       "      <td>37</td>\n",
       "      <td>0</td>\n",
       "      <td>0</td>\n",
       "      <td>0</td>\n",
       "      <td>0</td>\n",
       "      <td>...</td>\n",
       "      <td>28314</td>\n",
       "      <td>28959</td>\n",
       "      <td>29547</td>\n",
       "      <td>2000</td>\n",
       "      <td>2019</td>\n",
       "      <td>1200</td>\n",
       "      <td>1100</td>\n",
       "      <td>1069</td>\n",
       "      <td>1000</td>\n",
       "      <td>0</td>\n",
       "    </tr>\n",
       "    <tr>\n",
       "      <th>4</th>\n",
       "      <td>5</td>\n",
       "      <td>50000</td>\n",
       "      <td>1</td>\n",
       "      <td>2</td>\n",
       "      <td>1</td>\n",
       "      <td>57</td>\n",
       "      <td>-1</td>\n",
       "      <td>0</td>\n",
       "      <td>-1</td>\n",
       "      <td>0</td>\n",
       "      <td>...</td>\n",
       "      <td>20940</td>\n",
       "      <td>19146</td>\n",
       "      <td>19131</td>\n",
       "      <td>2000</td>\n",
       "      <td>36681</td>\n",
       "      <td>10000</td>\n",
       "      <td>9000</td>\n",
       "      <td>689</td>\n",
       "      <td>679</td>\n",
       "      <td>0</td>\n",
       "    </tr>\n",
       "    <tr>\n",
       "      <th>5</th>\n",
       "      <td>6</td>\n",
       "      <td>50000</td>\n",
       "      <td>1</td>\n",
       "      <td>1</td>\n",
       "      <td>2</td>\n",
       "      <td>37</td>\n",
       "      <td>0</td>\n",
       "      <td>0</td>\n",
       "      <td>0</td>\n",
       "      <td>0</td>\n",
       "      <td>...</td>\n",
       "      <td>19394</td>\n",
       "      <td>19619</td>\n",
       "      <td>20024</td>\n",
       "      <td>2500</td>\n",
       "      <td>1815</td>\n",
       "      <td>657</td>\n",
       "      <td>1000</td>\n",
       "      <td>1000</td>\n",
       "      <td>800</td>\n",
       "      <td>0</td>\n",
       "    </tr>\n",
       "    <tr>\n",
       "      <th>6</th>\n",
       "      <td>7</td>\n",
       "      <td>500000</td>\n",
       "      <td>1</td>\n",
       "      <td>1</td>\n",
       "      <td>2</td>\n",
       "      <td>29</td>\n",
       "      <td>0</td>\n",
       "      <td>0</td>\n",
       "      <td>0</td>\n",
       "      <td>0</td>\n",
       "      <td>...</td>\n",
       "      <td>542653</td>\n",
       "      <td>483003</td>\n",
       "      <td>473944</td>\n",
       "      <td>55000</td>\n",
       "      <td>40000</td>\n",
       "      <td>38000</td>\n",
       "      <td>20239</td>\n",
       "      <td>13750</td>\n",
       "      <td>13770</td>\n",
       "      <td>0</td>\n",
       "    </tr>\n",
       "    <tr>\n",
       "      <th>7</th>\n",
       "      <td>8</td>\n",
       "      <td>100000</td>\n",
       "      <td>2</td>\n",
       "      <td>2</td>\n",
       "      <td>2</td>\n",
       "      <td>23</td>\n",
       "      <td>0</td>\n",
       "      <td>-1</td>\n",
       "      <td>-1</td>\n",
       "      <td>0</td>\n",
       "      <td>...</td>\n",
       "      <td>221</td>\n",
       "      <td>-159</td>\n",
       "      <td>567</td>\n",
       "      <td>380</td>\n",
       "      <td>601</td>\n",
       "      <td>0</td>\n",
       "      <td>581</td>\n",
       "      <td>1687</td>\n",
       "      <td>1542</td>\n",
       "      <td>0</td>\n",
       "    </tr>\n",
       "    <tr>\n",
       "      <th>8</th>\n",
       "      <td>9</td>\n",
       "      <td>140000</td>\n",
       "      <td>2</td>\n",
       "      <td>3</td>\n",
       "      <td>1</td>\n",
       "      <td>28</td>\n",
       "      <td>0</td>\n",
       "      <td>0</td>\n",
       "      <td>2</td>\n",
       "      <td>0</td>\n",
       "      <td>...</td>\n",
       "      <td>12211</td>\n",
       "      <td>11793</td>\n",
       "      <td>3719</td>\n",
       "      <td>3329</td>\n",
       "      <td>0</td>\n",
       "      <td>432</td>\n",
       "      <td>1000</td>\n",
       "      <td>1000</td>\n",
       "      <td>1000</td>\n",
       "      <td>0</td>\n",
       "    </tr>\n",
       "    <tr>\n",
       "      <th>9</th>\n",
       "      <td>10</td>\n",
       "      <td>20000</td>\n",
       "      <td>1</td>\n",
       "      <td>3</td>\n",
       "      <td>2</td>\n",
       "      <td>35</td>\n",
       "      <td>-2</td>\n",
       "      <td>-2</td>\n",
       "      <td>-2</td>\n",
       "      <td>-2</td>\n",
       "      <td>...</td>\n",
       "      <td>0</td>\n",
       "      <td>13007</td>\n",
       "      <td>13912</td>\n",
       "      <td>0</td>\n",
       "      <td>0</td>\n",
       "      <td>0</td>\n",
       "      <td>13007</td>\n",
       "      <td>1122</td>\n",
       "      <td>0</td>\n",
       "      <td>0</td>\n",
       "    </tr>\n",
       "  </tbody>\n",
       "</table>\n",
       "<p>10 rows × 25 columns</p>\n",
       "</div>"
      ],
      "text/plain": [
       "   ID  LIMIT_BAL  SEX  EDUCATION  MARRIAGE  AGE  PAY_0  PAY_2  PAY_3  PAY_4  \\\n",
       "0   1      20000    2          2         1   24      2      2     -1     -1   \n",
       "1   2     120000    2          2         2   26     -1      2      0      0   \n",
       "2   3      90000    2          2         2   34      0      0      0      0   \n",
       "3   4      50000    2          2         1   37      0      0      0      0   \n",
       "4   5      50000    1          2         1   57     -1      0     -1      0   \n",
       "5   6      50000    1          1         2   37      0      0      0      0   \n",
       "6   7     500000    1          1         2   29      0      0      0      0   \n",
       "7   8     100000    2          2         2   23      0     -1     -1      0   \n",
       "8   9     140000    2          3         1   28      0      0      2      0   \n",
       "9  10      20000    1          3         2   35     -2     -2     -2     -2   \n",
       "\n",
       "   ...  BILL_AMT4  BILL_AMT5  BILL_AMT6  PAY_AMT1  PAY_AMT2  PAY_AMT3  \\\n",
       "0  ...          0          0          0         0       689         0   \n",
       "1  ...       3272       3455       3261         0      1000      1000   \n",
       "2  ...      14331      14948      15549      1518      1500      1000   \n",
       "3  ...      28314      28959      29547      2000      2019      1200   \n",
       "4  ...      20940      19146      19131      2000     36681     10000   \n",
       "5  ...      19394      19619      20024      2500      1815       657   \n",
       "6  ...     542653     483003     473944     55000     40000     38000   \n",
       "7  ...        221       -159        567       380       601         0   \n",
       "8  ...      12211      11793       3719      3329         0       432   \n",
       "9  ...          0      13007      13912         0         0         0   \n",
       "\n",
       "   PAY_AMT4  PAY_AMT5  PAY_AMT6  default payment next month  \n",
       "0         0         0         0                           1  \n",
       "1      1000         0      2000                           1  \n",
       "2      1000      1000      5000                           0  \n",
       "3      1100      1069      1000                           0  \n",
       "4      9000       689       679                           0  \n",
       "5      1000      1000       800                           0  \n",
       "6     20239     13750     13770                           0  \n",
       "7       581      1687      1542                           0  \n",
       "8      1000      1000      1000                           0  \n",
       "9     13007      1122         0                           0  \n",
       "\n",
       "[10 rows x 25 columns]"
      ]
     },
     "execution_count": 79,
     "metadata": {},
     "output_type": "execute_result"
    }
   ],
   "source": [
    "# display top 10 rows\n",
    "train_raw.head(10)"
   ]
  },
  {
   "cell_type": "code",
   "execution_count": 80,
   "metadata": {},
   "outputs": [
    {
     "data": {
      "text/plain": [
       "Index(['ID', 'LIMIT_BAL', 'SEX', 'EDUCATION', 'MARRIAGE', 'AGE', 'PAY_0',\n",
       "       'PAY_2', 'PAY_3', 'PAY_4', 'PAY_5', 'PAY_6', 'BILL_AMT1', 'BILL_AMT2',\n",
       "       'BILL_AMT3', 'BILL_AMT4', 'BILL_AMT5', 'BILL_AMT6', 'PAY_AMT1',\n",
       "       'PAY_AMT2', 'PAY_AMT3', 'PAY_AMT4', 'PAY_AMT5', 'PAY_AMT6',\n",
       "       'default payment next month'],\n",
       "      dtype='object')"
      ]
     },
     "execution_count": 80,
     "metadata": {},
     "output_type": "execute_result"
    }
   ],
   "source": [
    "# display attribute names \n",
    "train_raw.columns"
   ]
  },
  {
   "cell_type": "markdown",
   "metadata": {},
   "source": [
    "Set numerical and categorical dataset attributes. "
   ]
  },
  {
   "cell_type": "code",
   "execution_count": 81,
   "metadata": {},
   "outputs": [],
   "source": [
    "# determine categorical attributes\n",
    "cat_attrs = ['SEX', 'EDUCATION', 'MARRIAGE', 'AGE', 'PAY0', 'PAY2', 'PAY3', 'PAY4', 'PAY5', 'PAY6']\n",
    "\n",
    "# determine numerical attributes\n",
    "num_attrs = ['LIMITBAL', 'BILLAMT1', 'BILLAMT2', 'BILLAMT3', 'BILLAMT4', 'BILLAMT5', 'BILLAMT6',\n",
    "             'PAYAMT1', 'PAYAMT2', 'PAYAMT3', 'PAYAMT4', 'PAYAMT5', 'PAYAMT6']"
   ]
  },
  {
   "cell_type": "markdown",
   "metadata": {},
   "source": [
    "Pre-process dataset attributes."
   ]
  },
  {
   "cell_type": "code",
   "execution_count": 82,
   "metadata": {},
   "outputs": [],
   "source": [
    "# remove underscore in column names for correct inverse decoding\n",
    "train_raw.columns = [col.replace('_', '') for col in train_raw.columns]\n",
    "\n",
    "# convert categorical attributes to string\n",
    "train_raw[cat_attrs] = train_raw[cat_attrs].astype(str)\n",
    "\n",
    "# iterate over categorical attributes\n",
    "for cat_attr in cat_attrs:\n",
    "\n",
    "    # add col name to every categorical entry to make them distinguishable for embedding\n",
    "    train_raw[cat_attr] = cat_attr + '_' + train_raw[cat_attr].astype('str')"
   ]
  },
  {
   "cell_type": "markdown",
   "metadata": {},
   "source": [
    "Set dataset label."
   ]
  },
  {
   "cell_type": "code",
   "execution_count": 83,
   "metadata": {},
   "outputs": [],
   "source": [
    "# extract label\n",
    "label = train_raw['default payment next month']"
   ]
  },
  {
   "cell_type": "markdown",
   "metadata": {},
   "source": [
    "Determine the training data."
   ]
  },
  {
   "cell_type": "code",
   "execution_count": 84,
   "metadata": {},
   "outputs": [],
   "source": [
    "# merge selected categorical and numerical attributes\n",
    "train = train_raw[[*cat_attrs, *num_attrs]]"
   ]
  },
  {
   "cell_type": "markdown",
   "metadata": {},
   "source": [
    "Transform the numerical attributes."
   ]
  },
  {
   "cell_type": "code",
   "execution_count": 85,
   "metadata": {},
   "outputs": [],
   "source": [
    "# init the quantile transformation\n",
    "num_scaler = QuantileTransformer(output_distribution='normal', random_state=seed)\n",
    "\n",
    "# fit transformation to numerical attributes\n",
    "num_scaler.fit(train[num_attrs])\n",
    "\n",
    "# transform numerical attributes\n",
    "train_num_scaled = num_scaler.transform(train[num_attrs])"
   ]
  },
  {
   "cell_type": "markdown",
   "metadata": {},
   "source": [
    "Transform the categorical attributes."
   ]
  },
  {
   "cell_type": "code",
   "execution_count": 86,
   "metadata": {},
   "outputs": [],
   "source": [
    "# get vocabulary of categorical attributes\n",
    "vocabulary_classes = np.unique(train[cat_attrs])\n",
    "\n",
    "# init categorical attribute encoder \n",
    "label_encoder = LabelEncoder()\n",
    "\n",
    "# fit encoder to categorical attributes\n",
    "label_encoder.fit(vocabulary_classes)\n",
    "\n",
    "# transform categorical attributes\n",
    "train_cat_scaled = train[cat_attrs].apply(label_encoder.transform)\n",
    "\n",
    "# collect unique values of each categorical attribute\n",
    "vocab_per_attr = {cat_attr: set(train_cat_scaled[cat_attr]) for cat_attr in cat_attrs}"
   ]
  },
  {
   "cell_type": "markdown",
   "metadata": {},
   "source": [
    "Convert numerical and categorical attributes as well as the labels to tensors."
   ]
  },
  {
   "cell_type": "code",
   "execution_count": 87,
   "metadata": {},
   "outputs": [],
   "source": [
    "# convert numerical attributes\n",
    "train_num_torch = torch.FloatTensor(train_num_scaled)\n",
    "\n",
    "# convert categorical attributes\n",
    "train_cat_torch = torch.LongTensor(train_cat_scaled.values)\n",
    "\n",
    "# convert label\n",
    "label_torch = torch.LongTensor(label)"
   ]
  },
  {
   "cell_type": "markdown",
   "metadata": {},
   "source": [
    "Convert dataset to tensor dataset. "
   ]
  },
  {
   "cell_type": "code",
   "execution_count": 88,
   "metadata": {},
   "outputs": [],
   "source": [
    "# init tensor dataset\n",
    "train_set = TensorDataset(\n",
    "    train_cat_torch, # categorical attributes\n",
    "    train_num_torch, # numerical attributes\n",
    "    label_torch # dataset labels\n",
    ")"
   ]
  },
  {
   "cell_type": "markdown",
   "metadata": {},
   "source": [
    "Init the data loader."
   ]
  },
  {
   "cell_type": "code",
   "execution_count": 89,
   "metadata": {},
   "outputs": [],
   "source": [
    "# init the data loader\n",
    "dataloader = DataLoader(\n",
    "    dataset=train_set, # training dataset\n",
    "    batch_size=batch_size, # training batch size\n",
    "    num_workers=0, # number of workers\n",
    "    shuffle=True # shuffle training data\n",
    ")"
   ]
  },
  {
   "cell_type": "markdown",
   "metadata": {},
   "source": [
    "## Initialize and train the FinDiff model"
   ]
  },
  {
   "cell_type": "code",
   "execution_count": 90,
   "metadata": {},
   "outputs": [],
   "source": [
    "# determine number unique categorical tokens\n",
    "n_cat_tokens = len(np.unique(train[cat_attrs]))\n",
    "\n",
    "# determine total categorical embedding dimension\n",
    "cat_dim = cat_emb_dim * len(cat_attrs)\n",
    "\n",
    "# determine total numerical embedding dimension\n",
    "num_dim = len(num_attrs)\n",
    "\n",
    "# determine total embedding dimension\n",
    "encoded_dim = cat_dim + num_dim"
   ]
  },
  {
   "cell_type": "code",
   "execution_count": 91,
   "metadata": {},
   "outputs": [],
   "source": [
    "# initialize the FinDiff synthesizer model \n",
    "synthesizer = MLPSynthesizer(\n",
    "    d_in=encoded_dim,\n",
    "    hidden_layers=mlp_layers,\n",
    "    activation=activation,\n",
    "    n_cat_tokens=n_cat_tokens,\n",
    "    n_cat_emb=cat_emb_dim,\n",
    "    n_classes=pd.Series(label).nunique(),\n",
    "    embedding_learned=False\n",
    ")"
   ]
  },
  {
   "cell_type": "code",
   "execution_count": 92,
   "metadata": {},
   "outputs": [],
   "source": [
    "# initialize the FinDiff diffuser model\n",
    "diffuser = BaseDiffuser(\n",
    "    total_steps=diffusion_steps,\n",
    "    beta_start=diffusion_beta_start,\n",
    "    beta_end=diffusion_beta_end,\n",
    "    scheduler=scheduler\n",
    ")"
   ]
  },
  {
   "cell_type": "markdown",
   "metadata": {},
   "source": [
    "Init optimizer, scheduler and loss function."
   ]
  },
  {
   "cell_type": "code",
   "execution_count": 93,
   "metadata": {},
   "outputs": [],
   "source": [
    "# determine synthesizer model parameters\n",
    "parameters = filter(lambda p: p.requires_grad, synthesizer.parameters())\n",
    "\n",
    "# init Adam optimizer\n",
    "optimizer = optim.Adam(parameters, lr=learning_rate)\n",
    "\n",
    "# init learning rate scheduler\n",
    "lr_scheduler = CosineAnnealingLR(optimizer, T_max=epochs, verbose=False)\n",
    "\n",
    "# int mean-squared-error loss\n",
    "loss_fnc = nn.MSELoss()"
   ]
  },
  {
   "cell_type": "code",
   "execution_count": 96,
   "metadata": {},
   "outputs": [
    {
     "name": "stderr",
     "output_type": "stream",
     "text": [
      "  0%|                                                                 | 0/3000 [00:07<?, ?it/s]\n"
     ]
    },
    {
     "ename": "TypeError",
     "evalue": "'numpy.float32' object is not a mapping",
     "output_type": "error",
     "traceback": [
      "\u001b[0;31m---------------------------------------------------------------------------\u001b[0m",
      "\u001b[0;31mTypeError\u001b[0m                                 Traceback (most recent call last)",
      "Cell \u001b[0;32mIn[96], line 60\u001b[0m\n\u001b[1;32m     57\u001b[0m lr_scheduler\u001b[38;5;241m.\u001b[39mstep()\n\u001b[1;32m     59\u001b[0m \u001b[38;5;66;03m# collect training epoch loss\u001b[39;00m\n\u001b[0;32m---> 60\u001b[0m epoch_losses\u001b[38;5;241m.\u001b[39mappend({\u001b[38;5;241m*\u001b[39m\u001b[38;5;241m*\u001b[39mbase_params, \u001b[38;5;241m*\u001b[39m\u001b[38;5;241m*\u001b[39mbatch_losses_mean})\n\u001b[1;32m     62\u001b[0m \u001b[38;5;66;03m# prepare training epoch progress bar update\u001b[39;00m\n\u001b[1;32m     63\u001b[0m desc_losses \u001b[38;5;241m=\u001b[39m \u001b[38;5;124m'\u001b[39m\u001b[38;5;124mFinDiff training | \u001b[39m\u001b[38;5;124m'\u001b[39m\u001b[38;5;241m.\u001b[39mjoin([\u001b[38;5;124mf\u001b[39m\u001b[38;5;124m'\u001b[39m\u001b[38;5;132;01m{\u001b[39;00mname\u001b[38;5;132;01m}\u001b[39;00m\u001b[38;5;124m: \u001b[39m\u001b[38;5;132;01m{\u001b[39;00mloss\u001b[38;5;132;01m:\u001b[39;00m\u001b[38;5;124m.3f\u001b[39m\u001b[38;5;132;01m}\u001b[39;00m\u001b[38;5;124m'\u001b[39m \u001b[38;5;28;01mfor\u001b[39;00m name, loss \u001b[38;5;129;01min\u001b[39;00m epoch_losses\u001b[38;5;241m.\u001b[39mitems()])\n",
      "\u001b[0;31mTypeError\u001b[0m: 'numpy.float32' object is not a mapping"
     ]
    }
   ],
   "source": [
    "# init epoch training losses\n",
    "epoch_losses = []\n",
    "\n",
    "# init the training progress bar \n",
    "pbar = tqdm(iterable=range(epochs), position=0, leave=True)\n",
    "\n",
    "# iterate over training epochs\n",
    "for epoch in pbar:\n",
    "\n",
    "    base_params = {'epoch': epoch, 'seed': seed, 'mlp_layers': mlp_layers}\n",
    "\n",
    "    # init epoch training batch losses\n",
    "    batch_losses = []\n",
    "\n",
    "    # iterate over epoch batches\n",
    "    for batch_cat, batch_num, batch_y in dataloader:\n",
    "        \n",
    "        # set synthesizer model in training mode\n",
    "        synthesizer.train()\n",
    "\n",
    "        # sample timestamps t\n",
    "        timesteps = diffuser.sample_timesteps(n=batch_cat.shape[0])\n",
    "\n",
    "        # get cat embeddings\n",
    "        batch_cat_emb = synthesizer.embed_categorical(x_cat=batch_cat)\n",
    "        # concat cat & num\n",
    "        batch_cat_num = torch.cat((batch_cat_emb, batch_num), dim=1)\n",
    "\n",
    "        # add noise\n",
    "        batch_noise_t, noise_t = diffuser.add_gauss_noise(x_num=batch_cat_num, t=timesteps)\n",
    "\n",
    "        # conduct forward encoder/decoder pass\n",
    "        predicted_noise = synthesizer(x=batch_noise_t, timesteps=timesteps, label=batch_y)\n",
    "\n",
    "        # compute train loss\n",
    "        batch_loss = loss_fnc(\n",
    "            input=noise_t,\n",
    "            target=predicted_noise,\n",
    "        )\n",
    "\n",
    "        # reset encoder and decoder gradients\n",
    "        optimizer.zero_grad()\n",
    "\n",
    "        # run error back-propagation\n",
    "        batch_loss.backward()\n",
    "\n",
    "        # optimize encoder and decoder parameters\n",
    "        optimizer.step()\n",
    "\n",
    "        # collect rec error losses\n",
    "        batch_losses.append(batch_loss.detach().cpu().numpy())\n",
    "\n",
    "    # average of rec errors\n",
    "    batch_losses_mean = np.mean(np.array(batch_losses))\n",
    "\n",
    "    # update learning rate according to the scheduler\n",
    "    lr_scheduler.step()\n",
    "\n",
    "    # collect training epoch loss\n",
    "    epoch_losses.append({**base_params, **batch_losses_mean})\n",
    "\n",
    "    # prepare training epoch progress bar update\n",
    "    desc_losses = 'FinDiff training | '.join([f'{name}: {loss:.3f}' for name, loss in epoch_losses.items()])\n",
    "\n",
    "    # update training epoch progress bar\n",
    "    pbar.set_description(desc_info + ' | ' + desc_losses)\n"
   ]
  },
  {
   "cell_type": "markdown",
   "metadata": {},
   "source": [
    "# Sampling"
   ]
  },
  {
   "cell_type": "code",
   "execution_count": null,
   "metadata": {},
   "outputs": [],
   "source": [
    "# generate new samples\n",
    "generated_samples = generate_samples(\n",
    "    synthesizer=synthesizer,\n",
    "    diffuser=diffuser,\n",
    "    encoded_dim=encoded_dim,\n",
    "    last_diff_step=exp_params['diffusion_steps'],\n",
    "    label=label_torch\n",
    ")\n",
    "# decode generated samples, i.e. numeric upscaling + categorical inverse encoding\n",
    "generated_samples_df = decode_sample(\n",
    "    sample=generated_samples,\n",
    "    cat_dim=cat_dim,\n",
    "    n_cat_emb=exp_params['n_cat_emb'],\n",
    "    num_attrs=num_attrs,\n",
    "    cat_attrs=cat_attrs,\n",
    "    num_scaler=num_scaler,\n",
    "    vocab_per_attr=vocab_per_attr,\n",
    "    label_encoder=label_encoder,\n",
    "    synthesizer=synthesizer\n",
    ")"
   ]
  },
  {
   "cell_type": "markdown",
   "metadata": {},
   "source": [
    "# Evaluate generated data"
   ]
  },
  {
   "cell_type": "code",
   "execution_count": 11,
   "metadata": {},
   "outputs": [
    {
     "name": "stdout",
     "output_type": "stream",
     "text": [
      "Generating report ...\n",
      "(1/2) Evaluating Column Shapes: : 100%|██████████| 23/23 [00:00<00:00, 51.02it/s]\n",
      "(2/2) Evaluating Column Pair Trends: : 100%|██████████| 253/253 [00:03<00:00, 65.11it/s] \n",
      "\n",
      "Overall Quality Score: 89.0%\n",
      "\n",
      "Properties:\n",
      "- Column Shapes: 96.34%\n",
      "- Column Pair Trends: 81.66%\n"
     ]
    }
   ],
   "source": [
    "# build a metadata for evaluation (from SDV)\n",
    "metadata = SingleTableMetadata()\n",
    "metadata.detect_from_dataframe(data=train)\n",
    "\n",
    "# generate quality report\n",
    "quality_report = sdv_st.evaluate_quality(\n",
    "    real_data=train,\n",
    "    synthetic_data=generated_samples_df,\n",
    "    metadata=metadata\n",
    ")"
   ]
  },
  {
   "cell_type": "code",
   "execution_count": 21,
   "metadata": {},
   "outputs": [
    {
     "data": {
      "image/svg+xml": [
       "<svg class=\"main-svg\" xmlns=\"http://www.w3.org/2000/svg\" xmlns:xlink=\"http://www.w3.org/1999/xlink\" width=\"700\" height=\"500\" style=\"\" viewBox=\"0 0 700 500\"><rect x=\"0\" y=\"0\" width=\"700\" height=\"500\" style=\"fill: rgb(255, 255, 255); fill-opacity: 1;\"/><defs id=\"defs-c86df5\"><g class=\"clips\"><clipPath id=\"clipc86df5xyplot\" class=\"plotclip\"><rect width=\"415\" height=\"200\"/></clipPath><clipPath class=\"axesclip\" id=\"clipc86df5x\"><rect x=\"80\" y=\"0\" width=\"415\" height=\"500\"/></clipPath><clipPath class=\"axesclip\" id=\"clipc86df5y\"><rect x=\"0\" y=\"150\" width=\"700\" height=\"200\"/></clipPath><clipPath class=\"axesclip\" id=\"clipc86df5xy\"><rect x=\"80\" y=\"150\" width=\"415\" height=\"200\"/></clipPath></g><g class=\"gradients\"/><g class=\"patterns\"><pattern id=\"pc86df5-legend-9f189d\" width=\"14.142135623730951px\" height=\"14.142135623730951px\" patternUnits=\"userSpaceOnUse\" patternTransform=\"scale(0.8)\"><rect width=\"14.142135623730951px\" height=\"14.142135623730951px\" fill=\"rgb(0, 0, 54)\" fill-opacity=\"1\"/><path d=\"M-3.5355339059327378,3.5355339059327378l7.0710678118654755,-7.0710678118654755M0,14.142135623730951L14.142135623730951,0M10.606601717798213,17.67766952966369l7.0710678118654755,-7.0710678118654755\" opacity=\"0.5\" stroke=\"rgb(255, 255, 255)\" stroke-width=\"2px\"/></pattern><pattern id=\"pc86df5-9f189d\" width=\"14.142135623730951px\" height=\"14.142135623730951px\" patternUnits=\"userSpaceOnUse\" patternTransform=\"\"><rect width=\"14.142135623730951px\" height=\"14.142135623730951px\" fill=\"rgb(0, 0, 54)\" fill-opacity=\"1\"/><path d=\"M-3.5355339059327378,3.5355339059327378l7.0710678118654755,-7.0710678118654755M0,14.142135623730951L14.142135623730951,0M10.606601717798213,17.67766952966369l7.0710678118654755,-7.0710678118654755\" opacity=\"0.5\" stroke=\"rgb(255, 255, 255)\" stroke-width=\"2px\"/></pattern></g></defs><g class=\"bglayer\"><rect class=\"bg\" x=\"80\" y=\"150\" width=\"415\" height=\"200\" style=\"fill: rgb(245, 245, 248); fill-opacity: 1; stroke-width: 0;\"/></g><g class=\"layer-below\"><g class=\"imagelayer\"/><g class=\"shapelayer\"/></g><g class=\"cartesianlayer\"><g class=\"subplot xy\"><g class=\"layer-subplot\"><g class=\"shapelayer\"/><g class=\"imagelayer\"/></g><g class=\"minor-gridlayer\"><g class=\"x\"/><g class=\"y\"/></g><g class=\"gridlayer\"><g class=\"x\"/><g class=\"y\"><path class=\"ygrid crisp\" transform=\"translate(0,310)\" d=\"M80,0h415\" style=\"stroke: rgb(255, 255, 255); stroke-opacity: 1; stroke-width: 1px;\"/><path class=\"ygrid crisp\" transform=\"translate(0,270)\" d=\"M80,0h415\" style=\"stroke: rgb(255, 255, 255); stroke-opacity: 1; stroke-width: 1px;\"/><path class=\"ygrid crisp\" transform=\"translate(0,230)\" d=\"M80,0h415\" style=\"stroke: rgb(255, 255, 255); stroke-opacity: 1; stroke-width: 1px;\"/><path class=\"ygrid crisp\" transform=\"translate(0,190)\" d=\"M80,0h415\" style=\"stroke: rgb(255, 255, 255); stroke-opacity: 1; stroke-width: 1px;\"/></g></g><g class=\"zerolinelayer\"><path class=\"yzl zl crisp\" transform=\"translate(0,350)\" d=\"M80,0h415\" style=\"stroke: rgb(255, 255, 255); stroke-opacity: 1; stroke-width: 2px;\"/></g><path class=\"xlines-below\"/><path class=\"ylines-below\"/><g class=\"overlines-below\"/><g class=\"xaxislayer-below\"/><g class=\"yaxislayer-below\"/><g class=\"overaxes-below\"/><g class=\"plot\" transform=\"translate(80,150)\" clip-path=\"url(#clipc86df5xyplot)\"><g class=\"barlayer mlayer\"><g class=\"trace bars\" style=\"opacity: 1;\"><g class=\"points\"><g class=\"point\"><path d=\"M398.76,200V0.17H413.2V200Z\" style=\"vector-effect: none; opacity: 1; stroke-width: 0.5px; fill: rgb(3, 175, 241); fill-opacity: 1; stroke: rgb(229, 236, 246); stroke-opacity: 1;\"/></g><g class=\"point\"><path d=\"M272.46,200V3.47H286.89V200Z\" style=\"vector-effect: none; opacity: 1; stroke-width: 0.5px; fill: rgb(3, 175, 241); fill-opacity: 1; stroke: rgb(229, 236, 246); stroke-opacity: 1;\"/></g><g class=\"point\"><path d=\"M362.67,200V2.29H377.11V200Z\" style=\"vector-effect: none; opacity: 1; stroke-width: 0.5px; fill: rgb(3, 175, 241); fill-opacity: 1; stroke: rgb(229, 236, 246); stroke-opacity: 1;\"/></g><g class=\"point\"><path d=\"M1.8,200V70.01H16.24V200Z\" style=\"vector-effect: none; opacity: 1; stroke-width: 0.5px; fill: rgb(3, 175, 241); fill-opacity: 1; stroke: rgb(229, 236, 246); stroke-opacity: 1;\"/></g><g class=\"point\"><path d=\"M164.2,200V4.09H178.63V200Z\" style=\"vector-effect: none; opacity: 1; stroke-width: 0.5px; fill: rgb(3, 175, 241); fill-opacity: 1; stroke: rgb(229, 236, 246); stroke-opacity: 1;\"/></g><g class=\"point\"><path d=\"M326.59,200V2.89H341.02V200Z\" style=\"vector-effect: none; opacity: 1; stroke-width: 0.5px; fill: rgb(3, 175, 241); fill-opacity: 1; stroke: rgb(229, 236, 246); stroke-opacity: 1;\"/></g><g class=\"point\"><path d=\"M37.89,200V7.65H52.33V200Z\" style=\"vector-effect: none; opacity: 1; stroke-width: 0.5px; fill: rgb(3, 175, 241); fill-opacity: 1; stroke: rgb(229, 236, 246); stroke-opacity: 1;\"/></g><g class=\"point\"><path d=\"M380.72,200V1.94H395.15V200Z\" style=\"vector-effect: none; opacity: 1; stroke-width: 0.5px; fill: rgb(3, 175, 241); fill-opacity: 1; stroke: rgb(229, 236, 246); stroke-opacity: 1;\"/></g><g class=\"point\"><path d=\"M19.85,200V18.89H34.28V200Z\" style=\"vector-effect: none; opacity: 1; stroke-width: 0.5px; fill: rgb(3, 175, 241); fill-opacity: 1; stroke: rgb(229, 236, 246); stroke-opacity: 1;\"/></g><g class=\"point\"><path d=\"M146.15,200V4.13H160.59V200Z\" style=\"vector-effect: none; opacity: 1; stroke-width: 0.5px; fill: rgb(3, 175, 241); fill-opacity: 1; stroke: rgb(229, 236, 246); stroke-opacity: 1;\"/></g></g></g><g class=\"trace bars\" style=\"opacity: 1;\"><g class=\"points\"><g class=\"point\"><path d=\"M182.24,200V4.08H196.67V200Z\" class=\"pattern_filled\" style=\"vector-effect: none; opacity: 1; stroke-width: 0.5px; fill: url('#pc86df5-9f189d'); stroke: rgb(229, 236, 246); stroke-opacity: 1;\"/></g><g class=\"point\"><path d=\"M344.63,200V2.81H359.07V200Z\" class=\"pattern_filled\" style=\"vector-effect: none; opacity: 1; stroke-width: 0.5px; fill: url('#pc86df5-9f189d'); stroke: rgb(229, 236, 246); stroke-opacity: 1;\"/></g><g class=\"point\"><path d=\"M308.54,200V3.04H322.98V200Z\" class=\"pattern_filled\" style=\"vector-effect: none; opacity: 1; stroke-width: 0.5px; fill: url('#pc86df5-9f189d'); stroke: rgb(229, 236, 246); stroke-opacity: 1;\"/></g><g class=\"point\"><path d=\"M254.41,200V3.54H268.85V200Z\" class=\"pattern_filled\" style=\"vector-effect: none; opacity: 1; stroke-width: 0.5px; fill: url('#pc86df5-9f189d'); stroke: rgb(229, 236, 246); stroke-opacity: 1;\"/></g><g class=\"point\"><path d=\"M290.5,200V3.41H304.93V200Z\" class=\"pattern_filled\" style=\"vector-effect: none; opacity: 1; stroke-width: 0.5px; fill: url('#pc86df5-9f189d'); stroke: rgb(229, 236, 246); stroke-opacity: 1;\"/></g><g class=\"point\"><path d=\"M236.37,200V3.62H250.8V200Z\" class=\"pattern_filled\" style=\"vector-effect: none; opacity: 1; stroke-width: 0.5px; fill: url('#pc86df5-9f189d'); stroke: rgb(229, 236, 246); stroke-opacity: 1;\"/></g><g class=\"point\"><path d=\"M218.33,200V3.8H232.76V200Z\" class=\"pattern_filled\" style=\"vector-effect: none; opacity: 1; stroke-width: 0.5px; fill: url('#pc86df5-9f189d'); stroke: rgb(229, 236, 246); stroke-opacity: 1;\"/></g><g class=\"point\"><path d=\"M73.98,200V5.19H88.41V200Z\" class=\"pattern_filled\" style=\"vector-effect: none; opacity: 1; stroke-width: 0.5px; fill: url('#pc86df5-9f189d'); stroke: rgb(229, 236, 246); stroke-opacity: 1;\"/></g><g class=\"point\"><path d=\"M55.93,200V5.37H70.37V200Z\" class=\"pattern_filled\" style=\"vector-effect: none; opacity: 1; stroke-width: 0.5px; fill: url('#pc86df5-9f189d'); stroke: rgb(229, 236, 246); stroke-opacity: 1;\"/></g><g class=\"point\"><path d=\"M92.02,200V5.13H106.46V200Z\" class=\"pattern_filled\" style=\"vector-effect: none; opacity: 1; stroke-width: 0.5px; fill: url('#pc86df5-9f189d'); stroke: rgb(229, 236, 246); stroke-opacity: 1;\"/></g><g class=\"point\"><path d=\"M128.11,200V4.22H142.54V200Z\" class=\"pattern_filled\" style=\"vector-effect: none; opacity: 1; stroke-width: 0.5px; fill: url('#pc86df5-9f189d'); stroke: rgb(229, 236, 246); stroke-opacity: 1;\"/></g><g class=\"point\"><path d=\"M110.07,200V4.66H124.5V200Z\" class=\"pattern_filled\" style=\"vector-effect: none; opacity: 1; stroke-width: 0.5px; fill: url('#pc86df5-9f189d'); stroke: rgb(229, 236, 246); stroke-opacity: 1;\"/></g><g class=\"point\"><path d=\"M200.28,200V3.95H214.72V200Z\" class=\"pattern_filled\" style=\"vector-effect: none; opacity: 1; stroke-width: 0.5px; fill: url('#pc86df5-9f189d'); stroke: rgb(229, 236, 246); stroke-opacity: 1;\"/></g></g></g></g></g><g class=\"overplot\"/><path class=\"xlines-above crisp\" d=\"M0,0\" style=\"fill: none;\"/><path class=\"ylines-above crisp\" d=\"M0,0\" style=\"fill: none;\"/><g class=\"overlines-above\"/><g class=\"xaxislayer-above\"><g class=\"xtick\"><text text-anchor=\"start\" x=\"0\" y=\"369\" transform=\"translate(89.02,0) rotate(90,0,360)\" style=\"font-family: 'Open Sans', verdana, arial, sans-serif; font-size: 18px; fill: rgb(42, 63, 95); fill-opacity: 1; white-space: pre; opacity: 1;\">AGE</text></g><g class=\"xtick\"><text text-anchor=\"start\" x=\"0\" y=\"369\" transform=\"translate(125.11,0) rotate(90,0,360)\" style=\"font-family: 'Open Sans', verdana, arial, sans-serif; font-size: 18px; fill: rgb(42, 63, 95); fill-opacity: 1; white-space: pre; opacity: 1;\">PAY3</text></g><g class=\"xtick\"><text text-anchor=\"start\" x=\"0\" y=\"369\" transform=\"translate(161.2,0) rotate(90,0,360)\" style=\"font-family: 'Open Sans', verdana, arial, sans-serif; font-size: 18px; fill: rgb(42, 63, 95); fill-opacity: 1; white-space: pre; opacity: 1;\">PAYAMT1</text></g><g class=\"xtick\"><text text-anchor=\"start\" x=\"0\" y=\"369\" transform=\"translate(197.28,0) rotate(90,0,360)\" style=\"font-family: 'Open Sans', verdana, arial, sans-serif; font-size: 18px; fill: rgb(42, 63, 95); fill-opacity: 1; white-space: pre; opacity: 1;\">PAYAMT5</text></g><g class=\"xtick\"><text text-anchor=\"start\" x=\"0\" y=\"369\" transform=\"translate(233.37,0) rotate(90,0,360)\" style=\"font-family: 'Open Sans', verdana, arial, sans-serif; font-size: 18px; fill: rgb(42, 63, 95); fill-opacity: 1; white-space: pre; opacity: 1;\">PAY6</text></g><g class=\"xtick\"><text text-anchor=\"start\" x=\"0\" y=\"369\" transform=\"translate(269.46000000000004,0) rotate(90,0,360)\" style=\"font-family: 'Open Sans', verdana, arial, sans-serif; font-size: 18px; fill: rgb(42, 63, 95); fill-opacity: 1; white-space: pre; opacity: 1;\">LIMITBAL</text></g><g class=\"xtick\"><text text-anchor=\"start\" x=\"0\" y=\"369\" transform=\"translate(305.53999999999996,0) rotate(90,0,360)\" style=\"font-family: 'Open Sans', verdana, arial, sans-serif; font-size: 18px; fill: rgb(42, 63, 95); fill-opacity: 1; white-space: pre; opacity: 1;\">BILLAMT6</text></g><g class=\"xtick\"><text text-anchor=\"start\" x=\"0\" y=\"369\" transform=\"translate(341.63,0) rotate(90,0,360)\" style=\"font-family: 'Open Sans', verdana, arial, sans-serif; font-size: 18px; fill: rgb(42, 63, 95); fill-opacity: 1; white-space: pre; opacity: 1;\">BILLAMT3</text></g><g class=\"xtick\"><text text-anchor=\"start\" x=\"0\" y=\"369\" transform=\"translate(377.72,0) rotate(90,0,360)\" style=\"font-family: 'Open Sans', verdana, arial, sans-serif; font-size: 18px; fill: rgb(42, 63, 95); fill-opacity: 1; white-space: pre; opacity: 1;\">BILLAMT4</text></g><g class=\"xtick\"><text text-anchor=\"start\" x=\"0\" y=\"369\" transform=\"translate(413.8,0) rotate(90,0,360)\" style=\"font-family: 'Open Sans', verdana, arial, sans-serif; font-size: 18px; fill: rgb(42, 63, 95); fill-opacity: 1; white-space: pre; opacity: 1;\">PAY2</text></g><g class=\"xtick\"><text text-anchor=\"start\" x=\"0\" y=\"369\" transform=\"translate(449.89,0) rotate(90,0,360)\" style=\"font-family: 'Open Sans', verdana, arial, sans-serif; font-size: 18px; fill: rgb(42, 63, 95); fill-opacity: 1; white-space: pre; opacity: 1;\">MARRIAGE</text></g><g class=\"xtick\"><text text-anchor=\"start\" x=\"0\" y=\"369\" transform=\"translate(485.98,0) rotate(90,0,360)\" style=\"font-family: 'Open Sans', verdana, arial, sans-serif; font-size: 18px; fill: rgb(42, 63, 95); fill-opacity: 1; white-space: pre; opacity: 1;\">SEX</text></g></g><g class=\"yaxislayer-above\"><g class=\"ytick\"><text text-anchor=\"end\" x=\"79\" y=\"6.3\" transform=\"translate(0,350)\" style=\"font-family: 'Open Sans', verdana, arial, sans-serif; font-size: 18px; fill: rgb(42, 63, 95); fill-opacity: 1; white-space: pre; opacity: 1;\">0</text></g><g class=\"ytick\"><text text-anchor=\"end\" x=\"79\" y=\"6.3\" style=\"font-family: 'Open Sans', verdana, arial, sans-serif; font-size: 18px; fill: rgb(42, 63, 95); fill-opacity: 1; white-space: pre; opacity: 1;\" transform=\"translate(0,310)\">0.2</text></g><g class=\"ytick\"><text text-anchor=\"end\" x=\"79\" y=\"6.3\" style=\"font-family: 'Open Sans', verdana, arial, sans-serif; font-size: 18px; fill: rgb(42, 63, 95); fill-opacity: 1; white-space: pre; opacity: 1;\" transform=\"translate(0,270)\">0.4</text></g><g class=\"ytick\"><text text-anchor=\"end\" x=\"79\" y=\"6.3\" style=\"font-family: 'Open Sans', verdana, arial, sans-serif; font-size: 18px; fill: rgb(42, 63, 95); fill-opacity: 1; white-space: pre; opacity: 1;\" transform=\"translate(0,230)\">0.6</text></g><g class=\"ytick\"><text text-anchor=\"end\" x=\"79\" y=\"6.3\" style=\"font-family: 'Open Sans', verdana, arial, sans-serif; font-size: 18px; fill: rgb(42, 63, 95); fill-opacity: 1; white-space: pre; opacity: 1;\" transform=\"translate(0,190)\">0.8</text></g><g class=\"ytick\"><text text-anchor=\"end\" x=\"79\" y=\"6.3\" style=\"font-family: 'Open Sans', verdana, arial, sans-serif; font-size: 18px; fill: rgb(42, 63, 95); fill-opacity: 1; white-space: pre; opacity: 1;\" transform=\"translate(0,150)\">1</text></g></g><g class=\"overaxes-above\"/></g></g><g class=\"polarlayer\"/><g class=\"smithlayer\"/><g class=\"ternarylayer\"/><g class=\"geolayer\"/><g class=\"funnelarealayer\"/><g class=\"pielayer\"/><g class=\"iciclelayer\"/><g class=\"treemaplayer\"/><g class=\"sunburstlayer\"/><g class=\"glimages\"/><defs id=\"topdefs-c86df5\"><g class=\"clips\"/><clipPath id=\"legendc86df5\"><rect width=\"185\" height=\"92\" x=\"0\" y=\"0\"/></clipPath></defs><g class=\"layer-above\"><g class=\"imagelayer\"/><g class=\"shapelayer\"/></g><g class=\"infolayer\"><g class=\"legend\" pointer-events=\"all\" transform=\"translate(503.3,150)\"><rect class=\"bg\" shape-rendering=\"crispEdges\" width=\"185\" height=\"92\" x=\"0\" y=\"0\" style=\"stroke: rgb(68, 68, 68); stroke-opacity: 1; fill: rgb(255, 255, 255); fill-opacity: 1; stroke-width: 0px;\"/><g class=\"scrollbox\" transform=\"\" clip-path=\"url(#legendc86df5)\"><text class=\"legendtitletext\" text-anchor=\"start\" x=\"2\" y=\"28.6\" style=\"font-family: 'Open Sans', verdana, arial, sans-serif; font-size: 22px; fill: rgb(42, 63, 95); fill-opacity: 1; white-space: pre;\">Metric</text><g class=\"groups\" transform=\"\"><g class=\"traces\" transform=\"translate(0,46.800000000000004)\" style=\"opacity: 1;\"><text class=\"legendtext\" text-anchor=\"start\" x=\"40\" y=\"7.0200000000000005\" style=\"font-family: 'Open Sans', verdana, arial, sans-serif; font-size: 18px; fill: rgb(42, 63, 95); fill-opacity: 1; white-space: pre;\">TVComplement</text><g class=\"layers\" style=\"opacity: 1;\"><g class=\"legendfill\"/><g class=\"legendlines\"/><g class=\"legendsymbols\"><g class=\"legendpoints\"><path class=\"legendundefined\" d=\"M6,6H-6V-6H6Z\" transform=\"translate(20,0)\" style=\"stroke-width: 0.5px; fill: rgb(3, 175, 241); fill-opacity: 1; stroke: rgb(229, 236, 246); stroke-opacity: 1;\"/></g></g></g><rect class=\"legendtoggle\" x=\"0\" y=\"-13.200000000000001\" width=\"179.375\" height=\"26.400000000000002\" style=\"fill: rgb(0, 0, 0); fill-opacity: 0;\"/></g></g><g class=\"groups\" transform=\"\"><g class=\"traces\" transform=\"translate(0,73.2)\" style=\"opacity: 1;\"><text class=\"legendtext\" text-anchor=\"start\" x=\"40\" y=\"7.0200000000000005\" style=\"font-family: 'Open Sans', verdana, arial, sans-serif; font-size: 18px; fill: rgb(42, 63, 95); fill-opacity: 1; white-space: pre;\">KSComplement</text><g class=\"layers\" style=\"opacity: 1;\"><g class=\"legendfill\"/><g class=\"legendlines\"/><g class=\"legendsymbols\"><g class=\"legendpoints\"><path class=\"legendundefined pattern_filled\" d=\"M6,6H-6V-6H6Z\" transform=\"translate(20,0)\" style=\"stroke-width: 0.5px; fill: url('#pc86df5-legend-9f189d'); stroke: rgb(229, 236, 246); stroke-opacity: 1;\"/></g></g></g><rect class=\"legendtoggle\" x=\"0\" y=\"-13.200000000000001\" width=\"179.375\" height=\"26.400000000000002\" style=\"fill: rgb(0, 0, 0); fill-opacity: 0;\"/></g></g></g><rect class=\"scrollbar\" rx=\"20\" ry=\"3\" width=\"0\" height=\"0\" x=\"0\" y=\"0\" style=\"fill: rgb(128, 139, 164); fill-opacity: 1;\"/></g><g class=\"g-gtitle\"><text class=\"gtitle\" x=\"35\" y=\"75\" text-anchor=\"start\" dy=\"0em\" style=\"font-family: 'Open Sans', verdana, arial, sans-serif; font-size: 25px; fill: rgb(42, 63, 95); opacity: 1; font-weight: normal; white-space: pre;\">Data Quality: Column Shapes (Average Score=0.96)</text></g><g class=\"g-xtitle\"><text class=\"xtitle\" x=\"287.5\" y=\"487.634375\" text-anchor=\"middle\" style=\"font-family: 'Open Sans', verdana, arial, sans-serif; font-size: 22px; fill: rgb(42, 63, 95); opacity: 1; font-weight: normal; white-space: pre;\">Column</text></g><g class=\"g-ytitle\" transform=\"translate(2.337890625,0)\"><text class=\"ytitle\" transform=\"rotate(-90,19.6625,250)\" x=\"19.6625\" y=\"250\" text-anchor=\"middle\" style=\"font-family: 'Open Sans', verdana, arial, sans-serif; font-size: 22px; fill: rgb(42, 63, 95); opacity: 1; font-weight: normal; white-space: pre;\">Score</text></g></g></svg>"
      ]
     },
     "metadata": {},
     "output_type": "display_data"
    }
   ],
   "source": [
    "# plot Column Shapes -> referred to the \"Fidelity Column\" in the paper\n",
    "fig = quality_report.get_visualization(property_name='Column Shapes')\n",
    "fig.show(renderer=\"svg\")"
   ]
  },
  {
   "cell_type": "code",
   "execution_count": null,
   "metadata": {},
   "outputs": [],
   "source": [
    "# plot Column Pair Trends -> referred to the \"Fidelity Row\" in the paper\n",
    "fig = quality_report.get_visualization(property_name='Column Pair Trends')\n",
    "fig"
   ]
  }
 ],
 "metadata": {
  "kernelspec": {
   "display_name": "Python 3 (ipykernel)",
   "language": "python",
   "name": "python3"
  },
  "language_info": {
   "codemirror_mode": {
    "name": "ipython",
    "version": 3
   },
   "file_extension": ".py",
   "mimetype": "text/x-python",
   "name": "python",
   "nbconvert_exporter": "python",
   "pygments_lexer": "ipython3",
   "version": "3.11.7"
  }
 },
 "nbformat": 4,
 "nbformat_minor": 4
}
